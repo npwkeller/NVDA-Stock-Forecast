{
 "cells": [
  {
   "cell_type": "markdown",
   "metadata": {},
   "source": [
    "The goal of this project is to get some hands on experience with Python, specifically within the context of Finance."
   ]
  },
  {
   "cell_type": "code",
   "execution_count": 9,
   "metadata": {},
   "outputs": [],
   "source": [
    "import pandas as pd\n",
    "import numpy as np\n",
    "import matplotlib.pyplot as plt\n",
    "import seaborn as sns\n",
    "import yfinance as yf\n",
    "import plotly.express as px\n",
    "import matplotlib.patheffects as pe"
   ]
  },
  {
   "cell_type": "code",
   "execution_count": 10,
   "metadata": {},
   "outputs": [
    {
     "data": {
      "text/plain": [
       "yfinance.Ticker object <NVDA>"
      ]
     },
     "execution_count": 10,
     "metadata": {},
     "output_type": "execute_result"
    }
   ],
   "source": [
    "nvda = yf.Ticker('nvda')\n",
    "nvda"
   ]
  },
  {
   "cell_type": "markdown",
   "metadata": {},
   "source": [
    "### Exploratory Data Analysis and Visualization"
   ]
  },
  {
   "cell_type": "code",
   "execution_count": 11,
   "metadata": {},
   "outputs": [
    {
     "data": {
      "text/html": [
       "<div>\n",
       "<style scoped>\n",
       "    .dataframe tbody tr th:only-of-type {\n",
       "        vertical-align: middle;\n",
       "    }\n",
       "\n",
       "    .dataframe tbody tr th {\n",
       "        vertical-align: top;\n",
       "    }\n",
       "\n",
       "    .dataframe thead th {\n",
       "        text-align: right;\n",
       "    }\n",
       "</style>\n",
       "<table border=\"1\" class=\"dataframe\">\n",
       "  <thead>\n",
       "    <tr style=\"text-align: right;\">\n",
       "      <th></th>\n",
       "      <th>Open</th>\n",
       "      <th>High</th>\n",
       "      <th>Low</th>\n",
       "      <th>Close</th>\n",
       "      <th>Volume</th>\n",
       "      <th>Dividends</th>\n",
       "      <th>Stock Splits</th>\n",
       "    </tr>\n",
       "    <tr>\n",
       "      <th>Date</th>\n",
       "      <th></th>\n",
       "      <th></th>\n",
       "      <th></th>\n",
       "      <th></th>\n",
       "      <th></th>\n",
       "      <th></th>\n",
       "      <th></th>\n",
       "    </tr>\n",
       "  </thead>\n",
       "  <tbody>\n",
       "    <tr>\n",
       "      <th>2021-08-12 00:00:00-04:00</th>\n",
       "      <td>198.400857</td>\n",
       "      <td>199.988459</td>\n",
       "      <td>195.904620</td>\n",
       "      <td>198.750336</td>\n",
       "      <td>15165200</td>\n",
       "      <td>0.0</td>\n",
       "      <td>0.0</td>\n",
       "    </tr>\n",
       "    <tr>\n",
       "      <th>2021-08-13 00:00:00-04:00</th>\n",
       "      <td>198.750309</td>\n",
       "      <td>201.835653</td>\n",
       "      <td>198.211113</td>\n",
       "      <td>201.576050</td>\n",
       "      <td>18306300</td>\n",
       "      <td>0.0</td>\n",
       "      <td>0.0</td>\n",
       "    </tr>\n",
       "    <tr>\n",
       "      <th>2021-08-16 00:00:00-04:00</th>\n",
       "      <td>201.046867</td>\n",
       "      <td>202.564567</td>\n",
       "      <td>194.237127</td>\n",
       "      <td>199.199646</td>\n",
       "      <td>21087600</td>\n",
       "      <td>0.0</td>\n",
       "      <td>0.0</td>\n",
       "    </tr>\n",
       "    <tr>\n",
       "      <th>2021-08-17 00:00:00-04:00</th>\n",
       "      <td>196.553635</td>\n",
       "      <td>197.402346</td>\n",
       "      <td>192.379920</td>\n",
       "      <td>194.287048</td>\n",
       "      <td>20458500</td>\n",
       "      <td>0.0</td>\n",
       "      <td>0.0</td>\n",
       "    </tr>\n",
       "    <tr>\n",
       "      <th>2021-08-18 00:00:00-04:00</th>\n",
       "      <td>194.706407</td>\n",
       "      <td>196.044386</td>\n",
       "      <td>189.713935</td>\n",
       "      <td>190.113327</td>\n",
       "      <td>28591300</td>\n",
       "      <td>0.0</td>\n",
       "      <td>0.0</td>\n",
       "    </tr>\n",
       "  </tbody>\n",
       "</table>\n",
       "</div>"
      ],
      "text/plain": [
       "                                 Open        High         Low       Close  \\\n",
       "Date                                                                        \n",
       "2021-08-12 00:00:00-04:00  198.400857  199.988459  195.904620  198.750336   \n",
       "2021-08-13 00:00:00-04:00  198.750309  201.835653  198.211113  201.576050   \n",
       "2021-08-16 00:00:00-04:00  201.046867  202.564567  194.237127  199.199646   \n",
       "2021-08-17 00:00:00-04:00  196.553635  197.402346  192.379920  194.287048   \n",
       "2021-08-18 00:00:00-04:00  194.706407  196.044386  189.713935  190.113327   \n",
       "\n",
       "                             Volume  Dividends  Stock Splits  \n",
       "Date                                                          \n",
       "2021-08-12 00:00:00-04:00  15165200        0.0           0.0  \n",
       "2021-08-13 00:00:00-04:00  18306300        0.0           0.0  \n",
       "2021-08-16 00:00:00-04:00  21087600        0.0           0.0  \n",
       "2021-08-17 00:00:00-04:00  20458500        0.0           0.0  \n",
       "2021-08-18 00:00:00-04:00  28591300        0.0           0.0  "
      ]
     },
     "execution_count": 11,
     "metadata": {},
     "output_type": "execute_result"
    }
   ],
   "source": [
    "data = nvda.history(period = '2y', interval='1d')\n",
    "data.head()"
   ]
  },
  {
   "cell_type": "code",
   "execution_count": 12,
   "metadata": {},
   "outputs": [
    {
     "data": {
      "text/plain": [
       "Open            float64\n",
       "High            float64\n",
       "Low             float64\n",
       "Close           float64\n",
       "Volume            int64\n",
       "Dividends       float64\n",
       "Stock Splits    float64\n",
       "dtype: object"
      ]
     },
     "execution_count": 12,
     "metadata": {},
     "output_type": "execute_result"
    }
   ],
   "source": [
    "data.dtypes"
   ]
  },
  {
   "cell_type": "code",
   "execution_count": 13,
   "metadata": {},
   "outputs": [
    {
     "data": {
      "text/plain": [
       "(503, 7)"
      ]
     },
     "execution_count": 13,
     "metadata": {},
     "output_type": "execute_result"
    }
   ],
   "source": [
    "data.shape"
   ]
  },
  {
   "cell_type": "code",
   "execution_count": 14,
   "metadata": {},
   "outputs": [
    {
     "data": {
      "image/png": "[encoded data removed]",
      "text/plain": [
       "<Figure size 800x600 with 1 Axes>"
      ]
     },
     "metadata": {},
     "output_type": "display_data"
    }
   ],
   "source": [
    "plt.figure(figsize=(8,6))\n",
    "plt.plot(data['Close'])\n",
    "plt.title('$NVDA 2 Year Historical Chart')\n",
    "plt.show()"
   ]
  },
  {
   "cell_type": "markdown",
   "metadata": {},
   "source": [
    "This plot would have much greater function in Plotly"
   ]
  },
  {
   "cell_type": "code",
   "execution_count": 15,
   "metadata": {},
   "outputs": [
    {
     "data": {
      "application/vnd.plotly.v1+json": {
       "config": {
        "plotlyServerURL": "https://plot.ly"
       },
       "data": [
        {
         "hovertemplate": "variable=Close<br>Date=%{x}<br>value=%{y}<extra></extra>",
         "legendgroup": "Close",
         "line": {
          "color": "#636efa",
          "dash": "solid"
         },
         "marker": {
          "symbol": "circle"
         },
         "mode": "lines",
         "name": "Close",
         "orientation": "v",
         "showlegend": true,
         "type": "scatter",
         "x": [
          "2021-08-12T00:00:00-04:00",
          "2021-08-13T00:00:00-04:00",
          "2021-08-16T00:00:00-04:00",
          "2021-08-17T00:00:00-04:00",
          "2021-08-18T00:00:00-04:00",
          "2021-08-19T00:00:00-04:00",
          "2021-08-20T00:00:00-04:00",
          "2021-08-23T00:00:00-04:00",
          "2021-08-24T00:00:00-04:00",
          "2021-08-25T00:00:00-04:00",
          "2021-08-26T00:00:00-04:00",
          "2021-08-27T00:00:00-04:00",
          "2021-08-30T00:00:00-04:00",
          "2021-08-31T00:00:00-04:00",
          "2021-09-01T00:00:00-04:00",
          "2021-09-02T00:00:00-04:00",
          "2021-09-03T00:00:00-04:00",
          "2021-09-07T00:00:00-04:00",
          "2021-09-08T00:00:00-04:00",
          "2021-09-09T00:00:00-04:00",
          "2021-09-10T00:00:00-04:00",
          "2021-09-13T00:00:00-04:00",
          "2021-09-14T00:00:00-04:00",
          "2021-09-15T00:00:00-04:00",
          "2021-09-16T00:00:00-04:00",
          "2021-09-17T00:00:00-04:00",
          "2021-09-20T00:00:00-04:00",
          "2021-09-21T00:00:00-04:00",
          "2021-09-22T00:00:00-04:00",
          "2021-09-23T00:00:00-04:00",
          "2021-09-24T00:00:00-04:00",
          "2021-09-27T00:00:00-04:00",
          "2021-09-28T00:00:00-04:00",
          "2021-09-29T00:00:00-04:00",
          "2021-09-30T00:00:00-04:00",
          "2021-10-01T00:00:00-04:00",
          "2021-10-04T00:00:00-04:00",
          "2021-10-05T00:00:00-04:00",
          "2021-10-06T00:00:00-04:00",
          "2021-10-07T00:00:00-04:00",
          "2021-10-08T00:00:00-04:00",
          "2021-10-11T00:00:00-04:00",
          "2021-10-12T00:00:00-04:00",
          "2021-10-13T00:00:00-04:00",
          "2021-10-14T00:00:00-04:00",
          "2021-10-15T00:00:00-04:00",
          "2021-10-18T00:00:00-04:00",
          "2021-10-19T00:00:00-04:00",
          "2021-10-20T00:00:00-04:00",
          "2021-10-21T00:00:00-04:00",
          "2021-10-22T00:00:00-04:00",
          "2021-10-25T00:00:00-04:00",
          "2021-10-26T00:00:00-04:00",
          "2021-10-27T00:00:00-04:00",
          "2021-10-28T00:00:00-04:00",
          "2021-10-29T00:00:00-04:00",
          "2021-11-01T00:00:00-04:00",
          "2021-11-02T00:00:00-04:00",
          "2021-11-03T00:00:00-04:00",
          "2021-11-04T00:00:00-04:00",
          "2021-11-05T00:00:00-04:00",
          "2021-11-08T00:00:00-05:00",
          "2021-11-09T00:00:00-05:00",
          "2021-11-10T00:00:00-05:00",
          "2021-11-11T00:00:00-05:00",
          "2021-11-12T00:00:00-05:00",
          "2021-11-15T00:00:00-05:00",
          "2021-11-16T00:00:00-05:00",
          "2021-11-17T00:00:00-05:00",
          "2021-11-18T00:00:00-05:00",
          "2021-11-19T00:00:00-05:00",
          "2021-11-22T00:00:00-05:00",
          "2021-11-23T00:00:00-05:00",
          "2021-11-24T00:00:00-05:00",
          "2021-11-26T00:00:00-05:00",
          "2021-11-29T00:00:00-05:00",
          "2021-11-30T00:00:00-05:00",
          "2021-12-01T00:00:00-05:00",
          "2021-12-02T00:00:00-05:00",
          "2021-12-03T00:00:00-05:00",
          "2021-12-06T00:00:00-05:00",
          "2021-12-07T00:00:00-05:00",
          "2021-12-08T00:00:00-05:00",
          "2021-12-09T00:00:00-05:00",
          "2021-12-10T00:00:00-05:00",
          "2021-12-13T00:00:00-05:00",
          "2021-12-14T00:00:00-05:00",
          "2021-12-15T00:00:00-05:00",
          "2021-12-16T00:00:00-05:00",
          "2021-12-17T00:00:00-05:00",
          "2021-12-20T00:00:00-05:00",
          "2021-12-21T00:00:00-05:00",
          "2021-12-22T00:00:00-05:00",
          "2021-12-23T00:00:00-05:00",
          "2021-12-27T00:00:00-05:00",
          "2021-12-28T00:00:00-05:00",
          "2021-12-29T00:00:00-05:00",
          "2021-12-30T00:00:00-05:00",
          "2021-12-31T00:00:00-05:00",
          "2022-01-03T00:00:00-05:00",
          "2022-01-04T00:00:00-05:00",
          "2022-01-05T00:00:00-05:00",
          "2022-01-06T00:00:00-05:00",
          "2022-01-07T00:00:00-05:00",
          "2022-01-10T00:00:00-05:00",
          "2022-01-11T00:00:00-05:00",
          "2022-01-12T00:00:00-05:00",
          "2022-01-13T00:00:00-05:00",
          "2022-01-14T00:00:00-05:00",
          "2022-01-18T00:00:00-05:00",
          "2022-01-19T00:00:00-05:00",
          "2022-01-20T00:00:00-05:00",
          "2022-01-21T00:00:00-05:00",
          "2022-01-24T00:00:00-05:00",
          "2022-01-25T00:00:00-05:00",
          "2022-01-26T00:00:00-05:00",
          "2022-01-27T00:00:00-05:00",
          "2022-01-28T00:00:00-05:00",
          "2022-01-31T00:00:00-05:00",
          "2022-02-01T00:00:00-05:00",
          "2022-02-02T00:00:00-05:00",
          "2022-02-03T00:00:00-05:00",
          "2022-02-04T00:00:00-05:00",
          "2022-02-07T00:00:00-05:00",
          "2022-02-08T00:00:00-05:00",
          "2022-02-09T00:00:00-05:00",
          "2022-02-10T00:00:00-05:00",
          "2022-02-11T00:00:00-05:00",
          "2022-02-14T00:00:00-05:00",
          "2022-02-15T00:00:00-05:00",
          "2022-02-16T00:00:00-05:00",
          "2022-02-17T00:00:00-05:00",
          "2022-02-18T00:00:00-05:00",
          "2022-02-22T00:00:00-05:00",
          "2022-02-23T00:00:00-05:00",
          "2022-02-24T00:00:00-05:00",
          "2022-02-25T00:00:00-05:00",
          "2022-02-28T00:00:00-05:00",
          "2022-03-01T00:00:00-05:00",
          "2022-03-02T00:00:00-05:00",
          "2022-03-03T00:00:00-05:00",
          "2022-03-04T00:00:00-05:00",
          "2022-03-07T00:00:00-05:00",
          "2022-03-08T00:00:00-05:00",
          "2022-03-09T00:00:00-05:00",
          "2022-03-10T00:00:00-05:00",
          "2022-03-11T00:00:00-05:00",
          "2022-03-14T00:00:00-04:00",
          "2022-03-15T00:00:00-04:00",
          "2022-03-16T00:00:00-04:00",
          "2022-03-17T00:00:00-04:00",
          "2022-03-18T00:00:00-04:00",
          "2022-03-21T00:00:00-04:00",
          "2022-03-22T00:00:00-04:00",
          "2022-03-23T00:00:00-04:00",
          "2022-03-24T00:00:00-04:00",
          "2022-03-25T00:00:00-04:00",
          "2022-03-28T00:00:00-04:00",
          "2022-03-29T00:00:00-04:00",
          "2022-03-30T00:00:00-04:00",
          "2022-03-31T00:00:00-04:00",
          "2022-04-01T00:00:00-04:00",
          "2022-04-04T00:00:00-04:00",
          "2022-04-05T00:00:00-04:00",
          "2022-04-06T00:00:00-04:00",
          "2022-04-07T00:00:00-04:00",
          "2022-04-08T00:00:00-04:00",
          "2022-04-11T00:00:00-04:00",
          "2022-04-12T00:00:00-04:00",
          "2022-04-13T00:00:00-04:00",
          "2022-04-14T00:00:00-04:00",
          "2022-04-18T00:00:00-04:00",
          "2022-04-19T00:00:00-04:00",
          "2022-04-20T00:00:00-04:00",
          "2022-04-21T00:00:00-04:00",
          "2022-04-22T00:00:00-04:00",
          "2022-04-25T00:00:00-04:00",
          "2022-04-26T00:00:00-04:00",
          "2022-04-27T00:00:00-04:00",
          "2022-04-28T00:00:00-04:00",
          "2022-04-29T00:00:00-04:00",
          "2022-05-02T00:00:00-04:00",
          "2022-05-03T00:00:00-04:00",
          "2022-05-04T00:00:00-04:00",
          "2022-05-05T00:00:00-04:00",
          "2022-05-06T00:00:00-04:00",
          "2022-05-09T00:00:00-04:00",
          "2022-05-10T00:00:00-04:00",
          "2022-05-11T00:00:00-04:00",
          "2022-05-12T00:00:00-04:00",
          "2022-05-13T00:00:00-04:00",
          "2022-05-16T00:00:00-04:00",
          "2022-05-17T00:00:00-04:00",
          "2022-05-18T00:00:00-04:00",
          "2022-05-19T00:00:00-04:00",
          "2022-05-20T00:00:00-04:00",
          "2022-05-23T00:00:00-04:00",
          "2022-05-24T00:00:00-04:00",
          "2022-05-25T00:00:00-04:00",
          "2022-05-26T00:00:00-04:00",
          "2022-05-27T00:00:00-04:00",
          "2022-05-31T00:00:00-04:00",
          "2022-06-01T00:00:00-04:00",
          "2022-06-02T00:00:00-04:00",
          "2022-06-03T00:00:00-04:00",
          "2022-06-06T00:00:00-04:00",
          "2022-06-07T00:00:00-04:00",
          "2022-06-08T00:00:00-04:00",
          "2022-06-09T00:00:00-04:00",
          "2022-06-10T00:00:00-04:00",
          "2022-06-13T00:00:00-04:00",
          "2022-06-14T00:00:00-04:00",
          "2022-06-15T00:00:00-04:00",
          "2022-06-16T00:00:00-04:00",
          "2022-06-17T00:00:00-04:00",
          "2022-06-21T00:00:00-04:00",
          "2022-06-22T00:00:00-04:00",
          "2022-06-23T00:00:00-04:00",
          "2022-06-24T00:00:00-04:00",
          "2022-06-27T00:00:00-04:00",
          "2022-06-28T00:00:00-04:00",
          "2022-06-29T00:00:00-04:00",
          "2022-06-30T00:00:00-04:00",
          "2022-07-01T00:00:00-04:00",
          "2022-07-05T00:00:00-04:00",
          "2022-07-06T00:00:00-04:00",
          "2022-07-07T00:00:00-04:00",
          "2022-07-08T00:00:00-04:00",
          "2022-07-11T00:00:00-04:00",
          "2022-07-12T00:00:00-04:00",
          "2022-07-13T00:00:00-04:00",
          "2022-07-14T00:00:00-04:00",
          "2022-07-15T00:00:00-04:00",
          "2022-07-18T00:00:00-04:00",
          "2022-07-19T00:00:00-04:00",
          "2022-07-20T00:00:00-04:00",
          "2022-07-21T00:00:00-04:00",
          "2022-07-22T00:00:00-04:00",
          "2022-07-25T00:00:00-04:00",
          "2022-07-26T00:00:00-04:00",
          "2022-07-27T00:00:00-04:00",
          "2022-07-28T00:00:00-04:00",
          "2022-07-29T00:00:00-04:00",
          "2022-08-01T00:00:00-04:00",
          "2022-08-02T00:00:00-04:00",
          "2022-08-03T00:00:00-04:00",
          "2022-08-04T00:00:00-04:00",
          "2022-08-05T00:00:00-04:00",
          "2022-08-08T00:00:00-04:00",
          "2022-08-09T00:00:00-04:00",
          "2022-08-10T00:00:00-04:00",
          "2022-08-11T00:00:00-04:00",
          "2022-08-12T00:00:00-04:00",
          "2022-08-15T00:00:00-04:00",
          "2022-08-16T00:00:00-04:00",
          "2022-08-17T00:00:00-04:00",
          "2022-08-18T00:00:00-04:00",
          "2022-08-19T00:00:00-04:00",
          "2022-08-22T00:00:00-04:00",
          "2022-08-23T00:00:00-04:00",
          "2022-08-24T00:00:00-04:00",
          "2022-08-25T00:00:00-04:00",
          "2022-08-26T00:00:00-04:00",
          "2022-08-29T00:00:00-04:00",
          "2022-08-30T00:00:00-04:00",
          "2022-08-31T00:00:00-04:00",
          "2022-09-01T00:00:00-04:00",
          "2022-09-02T00:00:00-04:00",
          "2022-09-06T00:00:00-04:00",
          "2022-09-07T00:00:00-04:00",
          "2022-09-08T00:00:00-04:00",
          "2022-09-09T00:00:00-04:00",
          "2022-09-12T00:00:00-04:00",
          "2022-09-13T00:00:00-04:00",
          "2022-09-14T00:00:00-04:00",
          "2022-09-15T00:00:00-04:00",
          "2022-09-16T00:00:00-04:00",
          "2022-09-19T00:00:00-04:00",
          "2022-09-20T00:00:00-04:00",
          "2022-09-21T00:00:00-04:00",
          "2022-09-22T00:00:00-04:00",
          "2022-09-23T00:00:00-04:00",
          "2022-09-26T00:00:00-04:00",
          "2022-09-27T00:00:00-04:00",
          "2022-09-28T00:00:00-04:00",
          "2022-09-29T00:00:00-04:00",
          "2022-09-30T00:00:00-04:00",
          "2022-10-03T00:00:00-04:00",
          "2022-10-04T00:00:00-04:00",
          "2022-10-05T00:00:00-04:00",
          "2022-10-06T00:00:00-04:00",
          "2022-10-07T00:00:00-04:00",
          "2022-10-10T00:00:00-04:00",
          "2022-10-11T00:00:00-04:00",
          "2022-10-12T00:00:00-04:00",
          "2022-10-13T00:00:00-04:00",
          "2022-10-14T00:00:00-04:00",
          "2022-10-17T00:00:00-04:00",
          "2022-10-18T00:00:00-04:00",
          "2022-10-19T00:00:00-04:00",
          "2022-10-20T00:00:00-04:00",
          "2022-10-21T00:00:00-04:00",
          "2022-10-24T00:00:00-04:00",
          "2022-10-25T00:00:00-04:00",
          "2022-10-26T00:00:00-04:00",
          "2022-10-27T00:00:00-04:00",
          "2022-10-28T00:00:00-04:00",
          "2022-10-31T00:00:00-04:00",
          "2022-11-01T00:00:00-04:00",
          "2022-11-02T00:00:00-04:00",
          "2022-11-03T00:00:00-04:00",
          "2022-11-04T00:00:00-04:00",
          "2022-11-07T00:00:00-05:00",
          "2022-11-08T00:00:00-05:00",
          "2022-11-09T00:00:00-05:00",
          "2022-11-10T00:00:00-05:00",
          "2022-11-11T00:00:00-05:00",
          "2022-11-14T00:00:00-05:00",
          "2022-11-15T00:00:00-05:00",
          "2022-11-16T00:00:00-05:00",
          "2022-11-17T00:00:00-05:00",
          "2022-11-18T00:00:00-05:00",
          "2022-11-21T00:00:00-05:00",
          "2022-11-22T00:00:00-05:00",
          "2022-11-23T00:00:00-05:00",
          "2022-11-25T00:00:00-05:00",
          "2022-11-28T00:00:00-05:00",
          "2022-11-29T00:00:00-05:00",
          "2022-11-30T00:00:00-05:00",
          "2022-12-01T00:00:00-05:00",
          "2022-12-02T00:00:00-05:00",
          "2022-12-05T00:00:00-05:00",
          "2022-12-06T00:00:00-05:00",
          "2022-12-07T00:00:00-05:00",
          "2022-12-08T00:00:00-05:00",
          "2022-12-09T00:00:00-05:00",
          "2022-12-12T00:00:00-05:00",
          "2022-12-13T00:00:00-05:00",
          "2022-12-14T00:00:00-05:00",
          "2022-12-15T00:00:00-05:00",
          "2022-12-16T00:00:00-05:00",
          "2022-12-19T00:00:00-05:00",
          "2022-12-20T00:00:00-05:00",
          "2022-12-21T00:00:00-05:00",
          "2022-12-22T00:00:00-05:00",
          "2022-12-23T00:00:00-05:00",
          "2022-12-27T00:00:00-05:00",
          "2022-12-28T00:00:00-05:00",
          "2022-12-29T00:00:00-05:00",
          "2022-12-30T00:00:00-05:00",
          "2023-01-03T00:00:00-05:00",
          "2023-01-04T00:00:00-05:00",
          "2023-01-05T00:00:00-05:00",
          "2023-01-06T00:00:00-05:00",
          "2023-01-09T00:00:00-05:00",
          "2023-01-10T00:00:00-05:00",
          "2023-01-11T00:00:00-05:00",
          "2023-01-12T00:00:00-05:00",
          "2023-01-13T00:00:00-05:00",
          "2023-01-17T00:00:00-05:00",
          "2023-01-18T00:00:00-05:00",
          "2023-01-19T00:00:00-05:00",
          "2023-01-20T00:00:00-05:00",
          "2023-01-23T00:00:00-05:00",
          "2023-01-24T00:00:00-05:00",
          "2023-01-25T00:00:00-05:00",
          "2023-01-26T00:00:00-05:00",
          "2023-01-27T00:00:00-05:00",
          "2023-01-30T00:00:00-05:00",
          "2023-01-31T00:00:00-05:00",
          "2023-02-01T00:00:00-05:00",
          "2023-02-02T00:00:00-05:00",
          "2023-02-03T00:00:00-05:00",
          "2023-02-06T00:00:00-05:00",
          "2023-02-07T00:00:00-05:00",
          "2023-02-08T00:00:00-05:00",
          "2023-02-09T00:00:00-05:00",
          "2023-02-10T00:00:00-05:00",
          "2023-02-13T00:00:00-05:00",
          "2023-02-14T00:00:00-05:00",
          "2023-02-15T00:00:00-05:00",
          "2023-02-16T00:00:00-05:00",
          "2023-02-17T00:00:00-05:00",
          "2023-02-21T00:00:00-05:00",
          "2023-02-22T00:00:00-05:00",
          "2023-02-23T00:00:00-05:00",
          "2023-02-24T00:00:00-05:00",
          "2023-02-27T00:00:00-05:00",
          "2023-02-28T00:00:00-05:00",
          "2023-03-01T00:00:00-05:00",
          "2023-03-02T00:00:00-05:00",
          "2023-03-03T00:00:00-05:00",
          "2023-03-06T00:00:00-05:00",
          "2023-03-07T00:00:00-05:00",
          "2023-03-08T00:00:00-05:00",
          "2023-03-09T00:00:00-05:00",
          "2023-03-10T00:00:00-05:00",
          "2023-03-13T00:00:00-04:00",
          "2023-03-14T00:00:00-04:00",
          "2023-03-15T00:00:00-04:00",
          "2023-03-16T00:00:00-04:00",
          "2023-03-17T00:00:00-04:00",
          "2023-03-20T00:00:00-04:00",
          "2023-03-21T00:00:00-04:00",
          "2023-03-22T00:00:00-04:00",
          "2023-03-23T00:00:00-04:00",
          "2023-03-24T00:00:00-04:00",
          "2023-03-27T00:00:00-04:00",
          "2023-03-28T00:00:00-04:00",
          "2023-03-29T00:00:00-04:00",
          "2023-03-30T00:00:00-04:00",
          "2023-03-31T00:00:00-04:00",
          "2023-04-03T00:00:00-04:00",
          "2023-04-04T00:00:00-04:00",
          "2023-04-05T00:00:00-04:00",
          "2023-04-06T00:00:00-04:00",
          "2023-04-10T00:00:00-04:00",
          "2023-04-11T00:00:00-04:00",
          "2023-04-12T00:00:00-04:00",
          "2023-04-13T00:00:00-04:00",
          "2023-04-14T00:00:00-04:00",
          "2023-04-17T00:00:00-04:00",
          "2023-04-18T00:00:00-04:00",
          "2023-04-19T00:00:00-04:00",
          "2023-04-20T00:00:00-04:00",
          "2023-04-21T00:00:00-04:00",
          "2023-04-24T00:00:00-04:00",
          "2023-04-25T00:00:00-04:00",
          "2023-04-26T00:00:00-04:00",
          "2023-04-27T00:00:00-04:00",
          "2023-04-28T00:00:00-04:00",
          "2023-05-01T00:00:00-04:00",
          "2023-05-02T00:00:00-04:00",
          "2023-05-03T00:00:00-04:00",
          "2023-05-04T00:00:00-04:00",
          "2023-05-05T00:00:00-04:00",
          "2023-05-08T00:00:00-04:00",
          "2023-05-09T00:00:00-04:00",
          "2023-05-10T00:00:00-04:00",
          "2023-05-11T00:00:00-04:00",
          "2023-05-12T00:00:00-04:00",
          "2023-05-15T00:00:00-04:00",
          "2023-05-16T00:00:00-04:00",
          "2023-05-17T00:00:00-04:00",
          "2023-05-18T00:00:00-04:00",
          "2023-05-19T00:00:00-04:00",
          "2023-05-22T00:00:00-04:00",
          "2023-05-23T00:00:00-04:00",
          "2023-05-24T00:00:00-04:00",
          "2023-05-25T00:00:00-04:00",
          "2023-05-26T00:00:00-04:00",
          "2023-05-30T00:00:00-04:00",
          "2023-05-31T00:00:00-04:00",
          "2023-06-01T00:00:00-04:00",
          "2023-06-02T00:00:00-04:00",
          "2023-06-05T00:00:00-04:00",
          "2023-06-06T00:00:00-04:00",
          "2023-06-07T00:00:00-04:00",
          "2023-06-08T00:00:00-04:00",
          "2023-06-09T00:00:00-04:00",
          "2023-06-12T00:00:00-04:00",
          "2023-06-13T00:00:00-04:00",
          "2023-06-14T00:00:00-04:00",
          "2023-06-15T00:00:00-04:00",
          "2023-06-16T00:00:00-04:00",
          "2023-06-20T00:00:00-04:00",
          "2023-06-21T00:00:00-04:00",
          "2023-06-22T00:00:00-04:00",
          "2023-06-23T00:00:00-04:00",
          "2023-06-26T00:00:00-04:00",
          "2023-06-27T00:00:00-04:00",
          "2023-06-28T00:00:00-04:00",
          "2023-06-29T00:00:00-04:00",
          "2023-06-30T00:00:00-04:00",
          "2023-07-03T00:00:00-04:00",
          "2023-07-05T00:00:00-04:00",
          "2023-07-06T00:00:00-04:00",
          "2023-07-07T00:00:00-04:00",
          "2023-07-10T00:00:00-04:00",
          "2023-07-11T00:00:00-04:00",
          "2023-07-12T00:00:00-04:00",
          "2023-07-13T00:00:00-04:00",
          "2023-07-14T00:00:00-04:00",
          "2023-07-17T00:00:00-04:00",
          "2023-07-18T00:00:00-04:00",
          "2023-07-19T00:00:00-04:00",
          "2023-07-20T00:00:00-04:00",
          "2023-07-21T00:00:00-04:00",
          "2023-07-24T00:00:00-04:00",
          "2023-07-25T00:00:00-04:00",
          "2023-07-26T00:00:00-04:00",
          "2023-07-27T00:00:00-04:00",
          "2023-07-28T00:00:00-04:00",
          "2023-07-31T00:00:00-04:00",
          "2023-08-01T00:00:00-04:00",
          "2023-08-02T00:00:00-04:00",
          "2023-08-03T00:00:00-04:00",
          "2023-08-04T00:00:00-04:00",
          "2023-08-07T00:00:00-04:00",
          "2023-08-08T00:00:00-04:00",
          "2023-08-09T00:00:00-04:00",
          "2023-08-10T00:00:00-04:00",
          "2023-08-11T00:00:00-04:00"
         ],
         "xaxis": "x",
         "y": [
          198.75033569335938,
          201.5760498046875,
          199.19964599609375,
          194.28704833984375,
          190.1133270263672,
          197.6819305419922,
          207.8466033935547,
          219.24940490722656,
          217.6018829345703,
          221.7955780029297,
          220.3477325439453,
          226.0192108154297,
          226.5384063720703,
          223.55239868164062,
          224.11166381835938,
          223.66224670410156,
          228.12628173828125,
          226.31871032714844,
          223.09300231933594,
          221.4751739501953,
          224.4811553955078,
          221.22549438476562,
          222.12428283691406,
          223.1129913330078,
          222.12428283691406,
          218.70883178710938,
          210.84930419921875,
          212.17755126953125,
          219.1182861328125,
          224.52110290527344,
          220.5164337158203,
          216.31204223632812,
          206.7147979736328,
          204.89723205566406,
          206.8845977783203,
          207.14422607421875,
          197.0576629638672,
          204.2381134033203,
          206.7247772216797,
          210.4698028564453,
          208.0330352783203,
          206.6748504638672,
          206.4351806640625,
          209.1116180419922,
          217.17088317871094,
          218.32933044433594,
          221.92454528808594,
          222.60365295410156,
          220.73611450195312,
          226.61831665039062,
          226.9578399658203,
          231.35202026367188,
          246.84141540527344,
          244.18492126464844,
          249.0784149169922,
          255.33009338378906,
          257.9266052246094,
          263.65899658203125,
          265.6263732910156,
          297.61376953125,
          297.12445068359375,
          307.6304931640625,
          306.1624450683594,
          294.1983642578125,
          303.4959716796875,
          303.4959716796875,
          299.8507995605469,
          301.6284484863281,
          292.2209777832031,
          316.3288879394531,
          329.41143798828125,
          319.1351013183594,
          317.0379333496094,
          326.3055725097656,
          314.6111755371094,
          333.3162841796875,
          326.3255615234375,
          313.97052001953125,
          320.8721923828125,
          306.5594787597656,
          300.00738525390625,
          323.8785400390625,
          317.8757629394531,
          304.5319519042969,
          301.61541748046875,
          281.27001953125,
          283.02789306640625,
          304.2223205566406,
          283.52728271484375,
          277.67437744140625,
          276.85540771484375,
          290.39898681640625,
          293.64508056640625,
          296.0421447753906,
          309.076416015625,
          302.8539123535156,
          299.6478271484375,
          295.5028381347656,
          293.7549133300781,
          300.84637451171875,
          292.5463562011719,
          275.7067565917969,
          281.4398498535156,
          272.1410827636719,
          273.6692199707031,
          277.8341979980469,
          279.6519775390625,
          265.4291687011719,
          269.0947570800781,
          258.71728515625,
          250.36737060546875,
          241.2084503173828,
          233.45785522460938,
          233.43785095214844,
          222.9705047607422,
          227.44509887695312,
          219.1750946044922,
          228.12425231933594,
          244.56439208984375,
          246.0825653076172,
          252.11526489257812,
          239.19088745117188,
          242.89642333984375,
          246.98146057128906,
          250.7769012451172,
          266.72760009765625,
          257.92822265625,
          239.20089721679688,
          242.3770294189453,
          264.6301574707031,
          264.7899169921875,
          244.77415466308594,
          236.13458251953125,
          233.61761474609375,
          223.59971618652344,
          237.19329833984375,
          241.2783660888672,
          243.55563354492188,
          234.48658752441406,
          241.94882202148438,
          236.89405822753906,
          229.1221466064453,
          213.29855346679688,
          214.91688537597656,
          229.90133666992188,
          226.34503173828125,
          220.7708282470703,
          213.07879638671875,
          229.49176025390625,
          244.70594787597656,
          247.40316772460938,
          264.25567626953125,
          267.062744140625,
          264.9649353027344,
          256.07415771484375,
          281.2080993652344,
          276.6328125,
          281.8973693847656,
          286.2628173828125,
          276.6128234863281,
          272.5770263671875,
          266.84295654296875,
          273.3162841796875,
          259.04107666015625,
          243.81687927246094,
          241.82894897460938,
          230.95025634765625,
          218.94268798828125,
          214.81698608398438,
          221.7997589111328,
          212.3595428466797,
          217.60409545898438,
          221.74978637695312,
          214.59722900390625,
          201.62069702148438,
          194.94760131835938,
          198.8135986328125,
          187.68516540527344,
          183.95899963378906,
          197.6148681640625,
          185.2776641845703,
          195.12742614746094,
          195.8167266845703,
          203.1291046142578,
          188.24456787109375,
          186.55633544921875,
          169.32421875,
          175.7675323486328,
          166.12753295898438,
          161.58226013183594,
          176.87637329101562,
          172.46096801757812,
          181.5814971923828,
          169.20436096191406,
          171.0624237060547,
          166.76687622070312,
          168.80474853515625,
          161.37245178222656,
          169.573974609375,
          178.3248748779297,
          187.9149169921875,
          186.52635192871094,
          183.00999450683594,
          195.71682739257812,
          187.005859375,
          187.66517639160156,
          189.063720703125,
          186.3259735107422,
          180.3309326171875,
          169.59982299804688,
          156.3407745361328,
          158.22921752929688,
          165.1334991455078,
          155.88113403320312,
          158.66885375976562,
          165.52320861816406,
          163.46490478515625,
          162.1160125732422,
          171.1185760498047,
          168.55068969726562,
          159.68800354003906,
          155.29164123535156,
          151.4647979736328,
          145.11004638671875,
          149.5164031982422,
          151.175048828125,
          158.44903564453125,
          158.24920654296875,
          151.39488220214844,
          150.6954345703125,
          151.5147705078125,
          153.5930633544922,
          157.48980712890625,
          160.87701416015625,
          169.77967834472656,
          177.92294311523438,
          180.35093688964844,
          173.04696655273438,
          170.0994110107422,
          165.19346618652344,
          177.75306701660156,
          179.69146728515625,
          181.47999572753906,
          184.2576904296875,
          185.10699462890625,
          188.7739715576172,
          191.99130249023438,
          189.733154296875,
          177.78305053710938,
          170.7188720703125,
          180.820556640625,
          179.27182006835938,
          186.93548583984375,
          190.16282653808594,
          188.6340789794922,
          183.19857788085938,
          187.57496643066406,
          178.3426055908203,
          170.19931030273438,
          171.66810607910156,
          172.07777404785156,
          178.9820556640625,
          162.46571350097656,
          157.87948608398438,
          154.55224609375,
          150.81533813476562,
          139.25489807128906,
          136.35731506347656,
          134.53878784179688,
          137.0674591064453,
          139.82598876953125,
          143.79388427734375,
          144.9732666015625,
          131.24053955078125,
          131.2105712890625,
          129.2216033935547,
          131.91018676757812,
          133.7492218017578,
          131.6903076171875,
          132.53985595703125,
          125.5435562133789,
          125.09380340576172,
          122.21531677246094,
          124.0643310546875,
          127.29263305664062,
          122.13536071777344,
          121.32579040527344,
          125.05381774902344,
          131.600341796875,
          132.02012634277344,
          131.2305450439453,
          120.69612121582031,
          116.63825988769531,
          115.79871368408203,
          114.93916320800781,
          119.53673553466797,
          112.21060943603516,
          118.8171157836914,
          119.60669708251953,
          120.4462661743164,
          121.87550354003906,
          124.59405517578125,
          125.92335510253906,
          132.53985595703125,
          128.89178466796875,
          131.6903076171875,
          138.26681518554688,
          134.8986053466797,
          135.3583526611328,
          132.1200714111328,
          134.13902282714844,
          141.485107421875,
          142.93434143066406,
          145.94277954101562,
          137.68711853027344,
          157.41668701171875,
          163.18365478515625,
          162.86380004882812,
          166.5718536376953,
          159.01583862304688,
          156.6870880126953,
          154.00848388671875,
          153.08897399902344,
          160.295166015625,
          165.1026153564453,
          162.6139373779297,
          158.186279296875,
          156.30726623535156,
          169.18374633789062,
          171.3031768798828,
          168.71388244628906,
          166.05462646484375,
          159.82630920410156,
          161.15594482421875,
          171.64308166503906,
          169.96353149414062,
          175.30209350585938,
          180.6706085205078,
          176.6916961669922,
          169.4736785888672,
          165.6647186279297,
          162.49557495117188,
          160.80604553222656,
          164.96490478515625,
          153.34808349609375,
          152.01844787597656,
          141.17141723632812,
          140.32164001464844,
          145.99009704589844,
          146.10006713867188,
          143.11087036132812,
          147.44970703125,
          142.61102294921875,
          148.5493927001953,
          156.23728942871094,
          159.04652404785156,
          159.9662628173828,
          165.06488037109375,
          168.94383239746094,
          176.9716339111328,
          173.72251892089844,
          167.6041717529297,
          178.34124755859375,
          191.87753295898438,
          192.59735107421875,
          193.1772003173828,
          197.96588134765625,
          203.59434509277344,
          191.56764221191406,
          195.3166046142578,
          209.37277221679688,
          217.03067016601562,
          210.9423370361328,
          210.83236694335938,
          221.66940307617188,
          221.98931884765625,
          223.30894470214844,
          212.59188842773438,
          217.82046508789062,
          229.64723205566406,
          227.57778930664062,
          219.9598846435547,
          213.82156372070312,
          206.49356079101562,
          207.48329162597656,
          236.57533264160156,
          232.79637145996094,
          234.94577026367188,
          232.09657287597656,
          226.91796875,
          233.0762939453125,
          238.834716796875,
          235.4756317138672,
          232.8559112548828,
          241.78497314453125,
          234.33575439453125,
          229.62623596191406,
          229.63624572753906,
          240.6051025390625,
          242.2549285888672,
          255.38357543945312,
          257.223388671875,
          258.97320556640625,
          261.962890625,
          264.6526184082031,
          271.8818664550781,
          267.7622985839844,
          265.28253173828125,
          264.07269287109375,
          269.81207275390625,
          273.8016662597656,
          277.7412414550781,
          279.6210632324219,
          274.5015869140625,
          268.7821960449219,
          270.3420104980469,
          275.761474609375,
          271.6618957519531,
          264.922607421875,
          264.6026306152344,
          267.55230712890625,
          269.9920349121094,
          276.6413879394531,
          279.2810974121094,
          271.011962890625,
          271.16192626953125,
          270.39202880859375,
          262.3828430175781,
          269.5321044921875,
          272.2318420410156,
          277.4612731933594,
          289.0700988769531,
          282.0708312988281,
          277.9912109375,
          275.5914611816406,
          286.77032470703125,
          291.4798583984375,
          285.680419921875,
          288.82012939453125,
          285.75042724609375,
          283.37066650390625,
          289.5000305175781,
          292.0997619628906,
          301.748779296875,
          316.7472229003906,
          312.607666015625,
          311.7277526855469,
          306.8482360839844,
          305.3484191894531,
          379.76068115234375,
          389.419677734375,
          401.0684814453125,
          378.30084228515625,
          397.65887451171875,
          393.22930908203125,
          391.6694641113281,
          386.5,
          374.75,
          385.1000061035156,
          387.70001220703125,
          394.82000732421875,
          410.2200012207031,
          429.9700012207031,
          426.5299987792969,
          426.9200134277344,
          438.0799865722656,
          430.45001220703125,
          430.25,
          422.0899963378906,
          406.32000732421875,
          418.760009765625,
          411.1700134277344,
          408.2200012207031,
          423.0199890136719,
          424.1300048828125,
          423.1700134277344,
          421.0299987792969,
          425.0299987792969,
          421.79998779296875,
          424.04998779296875,
          439.0199890136719,
          459.7699890136719,
          454.69000244140625,
          464.6099853515625,
          474.94000244140625,
          470.7699890136719,
          455.20001220703125,
          443.0899963378906,
          446.1199951171875,
          456.7900085449219,
          454.5199890136719,
          459,
          467.5,
          467.2900085449219,
          465.07000732421875,
          442.69000244140625,
          445.1499938964844,
          446.79998779296875,
          454.1700134277344,
          446.6400146484375,
          425.5400085449219,
          423.8800048828125,
          408.54998779296875
         ],
         "yaxis": "y"
        }
       ],
       "layout": {
        "autosize": false,
        "height": 600,
        "legend": {
         "title": {
          "text": "variable"
         },
         "tracegroupgap": 0
        },
        "margin": {
         "t": 60
        },
        "template": {
         "data": {
          "bar": [
           {
            "error_x": {
             "color": "#2a3f5f"
            },
            "error_y": {
             "color": "#2a3f5f"
            },
            "marker": {
             "line": {
              "color": "#E5ECF6",
              "width": 0.5
             },
             "pattern": {
              "fillmode": "overlay",
              "size": 10,
              "solidity": 0.2
             }
            },
            "type": "bar"
           }
          ],
          "barpolar": [
           {
            "marker": {
             "line": {
              "color": "#E5ECF6",
              "width": 0.5
             },
             "pattern": {
              "fillmode": "overlay",
              "size": 10,
              "solidity": 0.2
             }
            },
            "type": "barpolar"
           }
          ],
          "carpet": [
           {
            "aaxis": {
             "endlinecolor": "#2a3f5f",
             "gridcolor": "white",
             "linecolor": "white",
             "minorgridcolor": "white",
             "startlinecolor": "#2a3f5f"
            },
            "baxis": {
             "endlinecolor": "#2a3f5f",
             "gridcolor": "white",
             "linecolor": "white",
             "minorgridcolor": "white",
             "startlinecolor": "#2a3f5f"
            },
            "type": "carpet"
           }
          ],
          "choropleth": [
           {
            "colorbar": {
             "outlinewidth": 0,
             "ticks": ""
            },
            "type": "choropleth"
           }
          ],
          "contour": [
           {
            "colorbar": {
             "outlinewidth": 0,
             "ticks": ""
            },
            "colorscale": [
             [
              0,
              "#0d0887"
             ],
             [
              0.1111111111111111,
              "#46039f"
             ],
             [
              0.2222222222222222,
              "#7201a8"
             ],
             [
              0.3333333333333333,
              "#9c179e"
             ],
             [
              0.4444444444444444,
              "#bd3786"
             ],
             [
              0.5555555555555556,
              "#d8576b"
             ],
             [
              0.6666666666666666,
              "#ed7953"
             ],
             [
              0.7777777777777778,
              "#fb9f3a"
             ],
             [
              0.8888888888888888,
              "#fdca26"
             ],
             [
              1,
              "#f0f921"
             ]
            ],
            "type": "contour"
           }
          ],
          "contourcarpet": [
           {
            "colorbar": {
             "outlinewidth": 0,
             "ticks": ""
            },
            "type": "contourcarpet"
           }
          ],
          "heatmap": [
           {
            "colorbar": {
             "outlinewidth": 0,
             "ticks": ""
            },
            "colorscale": [
             [
              0,
              "#0d0887"
             ],
             [
              0.1111111111111111,
              "#46039f"
             ],
             [
              0.2222222222222222,
              "#7201a8"
             ],
             [
              0.3333333333333333,
              "#9c179e"
             ],
             [
              0.4444444444444444,
              "#bd3786"
             ],
             [
              0.5555555555555556,
              "#d8576b"
             ],
             [
              0.6666666666666666,
              "#ed7953"
             ],
             [
              0.7777777777777778,
              "#fb9f3a"
             ],
             [
              0.8888888888888888,
              "#fdca26"
             ],
             [
              1,
              "#f0f921"
             ]
            ],
            "type": "heatmap"
           }
          ],
          "heatmapgl": [
           {
            "colorbar": {
             "outlinewidth": 0,
             "ticks": ""
            },
            "colorscale": [
             [
              0,
              "#0d0887"
             ],
             [
              0.1111111111111111,
              "#46039f"
             ],
             [
              0.2222222222222222,
              "#7201a8"
             ],
             [
              0.3333333333333333,
              "#9c179e"
             ],
             [
              0.4444444444444444,
              "#bd3786"
             ],
             [
              0.5555555555555556,
              "#d8576b"
             ],
             [
              0.6666666666666666,
              "#ed7953"
             ],
             [
              0.7777777777777778,
              "#fb9f3a"
             ],
             [
              0.8888888888888888,
              "#fdca26"
             ],
             [
              1,
              "#f0f921"
             ]
            ],
            "type": "heatmapgl"
           }
          ],
          "histogram": [
           {
            "marker": {
             "pattern": {
              "fillmode": "overlay",
              "size": 10,
              "solidity": 0.2
             }
            },
            "type": "histogram"
           }
          ],
          "histogram2d": [
           {
            "colorbar": {
             "outlinewidth": 0,
             "ticks": ""
            },
            "colorscale": [
             [
              0,
              "#0d0887"
             ],
             [
              0.1111111111111111,
              "#46039f"
             ],
             [
              0.2222222222222222,
              "#7201a8"
             ],
             [
              0.3333333333333333,
              "#9c179e"
             ],
             [
              0.4444444444444444,
              "#bd3786"
             ],
             [
              0.5555555555555556,
              "#d8576b"
             ],
             [
              0.6666666666666666,
              "#ed7953"
             ],
             [
              0.7777777777777778,
              "#fb9f3a"
             ],
             [
              0.8888888888888888,
              "#fdca26"
             ],
             [
              1,
              "#f0f921"
             ]
            ],
            "type": "histogram2d"
           }
          ],
          "histogram2dcontour": [
           {
            "colorbar": {
             "outlinewidth": 0,
             "ticks": ""
            },
            "colorscale": [
             [
              0,
              "#0d0887"
             ],
             [
              0.1111111111111111,
              "#46039f"
             ],
             [
              0.2222222222222222,
              "#7201a8"
             ],
             [
              0.3333333333333333,
              "#9c179e"
             ],
             [
              0.4444444444444444,
              "#bd3786"
             ],
             [
              0.5555555555555556,
              "#d8576b"
             ],
             [
              0.6666666666666666,
              "#ed7953"
             ],
             [
              0.7777777777777778,
              "#fb9f3a"
             ],
             [
              0.8888888888888888,
              "#fdca26"
             ],
             [
              1,
              "#f0f921"
             ]
            ],
            "type": "histogram2dcontour"
           }
          ],
          "mesh3d": [
           {
            "colorbar": {
             "outlinewidth": 0,
             "ticks": ""
            },
            "type": "mesh3d"
           }
          ],
          "parcoords": [
           {
            "line": {
             "colorbar": {
              "outlinewidth": 0,
              "ticks": ""
             }
            },
            "type": "parcoords"
           }
          ],
          "pie": [
           {
            "automargin": true,
            "type": "pie"
           }
          ],
          "scatter": [
           {
            "fillpattern": {
             "fillmode": "overlay",
             "size": 10,
             "solidity": 0.2
            },
            "type": "scatter"
           }
          ],
          "scatter3d": [
           {
            "line": {
             "colorbar": {
              "outlinewidth": 0,
              "ticks": ""
             }
            },
            "marker": {
             "colorbar": {
              "outlinewidth": 0,
              "ticks": ""
             }
            },
            "type": "scatter3d"
           }
          ],
          "scattercarpet": [
           {
            "marker": {
             "colorbar": {
              "outlinewidth": 0,
              "ticks": ""
             }
            },
            "type": "scattercarpet"
           }
          ],
          "scattergeo": [
           {
            "marker": {
             "colorbar": {
              "outlinewidth": 0,
              "ticks": ""
             }
            },
            "type": "scattergeo"
           }
          ],
          "scattergl": [
           {
            "marker": {
             "colorbar": {
              "outlinewidth": 0,
              "ticks": ""
             }
            },
            "type": "scattergl"
           }
          ],
          "scattermapbox": [
           {
            "marker": {
             "colorbar": {
              "outlinewidth": 0,
              "ticks": ""
             }
            },
            "type": "scattermapbox"
           }
          ],
          "scatterpolar": [
           {
            "marker": {
             "colorbar": {
              "outlinewidth": 0,
              "ticks": ""
             }
            },
            "type": "scatterpolar"
           }
          ],
          "scatterpolargl": [
           {
            "marker": {
             "colorbar": {
              "outlinewidth": 0,
              "ticks": ""
             }
            },
            "type": "scatterpolargl"
           }
          ],
          "scatterternary": [
           {
            "marker": {
             "colorbar": {
              "outlinewidth": 0,
              "ticks": ""
             }
            },
            "type": "scatterternary"
           }
          ],
          "surface": [
           {
            "colorbar": {
             "outlinewidth": 0,
             "ticks": ""
            },
            "colorscale": [
             [
              0,
              "#0d0887"
             ],
             [
              0.1111111111111111,
              "#46039f"
             ],
             [
              0.2222222222222222,
              "#7201a8"
             ],
             [
              0.3333333333333333,
              "#9c179e"
             ],
             [
              0.4444444444444444,
              "#bd3786"
             ],
             [
              0.5555555555555556,
              "#d8576b"
             ],
             [
              0.6666666666666666,
              "#ed7953"
             ],
             [
              0.7777777777777778,
              "#fb9f3a"
             ],
             [
              0.8888888888888888,
              "#fdca26"
             ],
             [
              1,
              "#f0f921"
             ]
            ],
            "type": "surface"
           }
          ],
          "table": [
           {
            "cells": {
             "fill": {
              "color": "#EBF0F8"
             },
             "line": {
              "color": "white"
             }
            },
            "header": {
             "fill": {
              "color": "#C8D4E3"
             },
             "line": {
              "color": "white"
             }
            },
            "type": "table"
           }
          ]
         },
         "layout": {
          "annotationdefaults": {
           "arrowcolor": "#2a3f5f",
           "arrowhead": 0,
           "arrowwidth": 1
          },
          "autotypenumbers": "strict",
          "coloraxis": {
           "colorbar": {
            "outlinewidth": 0,
            "ticks": ""
           }
          },
          "colorscale": {
           "diverging": [
            [
             0,
             "#8e0152"
            ],
            [
             0.1,
             "#c51b7d"
            ],
            [
             0.2,
             "#de77ae"
            ],
            [
             0.3,
             "#f1b6da"
            ],
            [
             0.4,
             "#fde0ef"
            ],
            [
             0.5,
             "#f7f7f7"
            ],
            [
             0.6,
             "#e6f5d0"
            ],
            [
             0.7,
             "#b8e186"
            ],
            [
             0.8,
             "#7fbc41"
            ],
            [
             0.9,
             "#4d9221"
            ],
            [
             1,
             "#276419"
            ]
           ],
           "sequential": [
            [
             0,
             "#0d0887"
            ],
            [
             0.1111111111111111,
             "#46039f"
            ],
            [
             0.2222222222222222,
             "#7201a8"
            ],
            [
             0.3333333333333333,
             "#9c179e"
            ],
            [
             0.4444444444444444,
             "#bd3786"
            ],
            [
             0.5555555555555556,
             "#d8576b"
            ],
            [
             0.6666666666666666,
             "#ed7953"
            ],
            [
             0.7777777777777778,
             "#fb9f3a"
            ],
            [
             0.8888888888888888,
             "#fdca26"
            ],
            [
             1,
             "#f0f921"
            ]
           ],
           "sequentialminus": [
            [
             0,
             "#0d0887"
            ],
            [
             0.1111111111111111,
             "#46039f"
            ],
            [
             0.2222222222222222,
             "#7201a8"
            ],
            [
             0.3333333333333333,
             "#9c179e"
            ],
            [
             0.4444444444444444,
             "#bd3786"
            ],
            [
             0.5555555555555556,
             "#d8576b"
            ],
            [
             0.6666666666666666,
             "#ed7953"
            ],
            [
             0.7777777777777778,
             "#fb9f3a"
            ],
            [
             0.8888888888888888,
             "#fdca26"
            ],
            [
             1,
             "#f0f921"
            ]
           ]
          },
          "colorway": [
           "#636efa",
           "#EF553B",
           "#00cc96",
           "#ab63fa",
           "#FFA15A",
           "#19d3f3",
           "#FF6692",
           "#B6E880",
           "#FF97FF",
           "#FECB52"
          ],
          "font": {
           "color": "#2a3f5f"
          },
          "geo": {
           "bgcolor": "white",
           "lakecolor": "white",
           "landcolor": "#E5ECF6",
           "showlakes": true,
           "showland": true,
           "subunitcolor": "white"
          },
          "hoverlabel": {
           "align": "left"
          },
          "hovermode": "closest",
          "mapbox": {
           "style": "light"
          },
          "paper_bgcolor": "white",
          "plot_bgcolor": "#E5ECF6",
          "polar": {
           "angularaxis": {
            "gridcolor": "white",
            "linecolor": "white",
            "ticks": ""
           },
           "bgcolor": "#E5ECF6",
           "radialaxis": {
            "gridcolor": "white",
            "linecolor": "white",
            "ticks": ""
           }
          },
          "scene": {
           "xaxis": {
            "backgroundcolor": "#E5ECF6",
            "gridcolor": "white",
            "gridwidth": 2,
            "linecolor": "white",
            "showbackground": true,
            "ticks": "",
            "zerolinecolor": "white"
           },
           "yaxis": {
            "backgroundcolor": "#E5ECF6",
            "gridcolor": "white",
            "gridwidth": 2,
            "linecolor": "white",
            "showbackground": true,
            "ticks": "",
            "zerolinecolor": "white"
           },
           "zaxis": {
            "backgroundcolor": "#E5ECF6",
            "gridcolor": "white",
            "gridwidth": 2,
            "linecolor": "white",
            "showbackground": true,
            "ticks": "",
            "zerolinecolor": "white"
           }
          },
          "shapedefaults": {
           "line": {
            "color": "#2a3f5f"
           }
          },
          "ternary": {
           "aaxis": {
            "gridcolor": "white",
            "linecolor": "white",
            "ticks": ""
           },
           "baxis": {
            "gridcolor": "white",
            "linecolor": "white",
            "ticks": ""
           },
           "bgcolor": "#E5ECF6",
           "caxis": {
            "gridcolor": "white",
            "linecolor": "white",
            "ticks": ""
           }
          },
          "title": {
           "x": 0.05
          },
          "xaxis": {
           "automargin": true,
           "gridcolor": "white",
           "linecolor": "white",
           "ticks": "",
           "title": {
            "standoff": 15
           },
           "zerolinecolor": "white",
           "zerolinewidth": 2
          },
          "yaxis": {
           "automargin": true,
           "gridcolor": "white",
           "linecolor": "white",
           "ticks": "",
           "title": {
            "standoff": 15
           },
           "zerolinecolor": "white",
           "zerolinewidth": 2
          }
         }
        },
        "title": {
         "text": "2-year Nvidia Stock Price"
        },
        "width": 800,
        "xaxis": {
         "anchor": "y",
         "domain": [
          0,
          1
         ],
         "title": {
          "text": "Date"
         }
        },
        "yaxis": {
         "anchor": "x",
         "domain": [
          0,
          1
         ],
         "title": {
          "text": "Closing Price"
         }
        }
       }
      }
     },
     "metadata": {},
     "output_type": "display_data"
    }
   ],
   "source": [
    "fig = px.line(data['Close'])\n",
    "fig.update_layout(\n",
    "    autosize=False,\n",
    "    width=800,\n",
    "    height=600,\n",
    "    yaxis_title= \"Closing Price\",\n",
    "    title= \"2-year Nvidia Stock Price\", \n",
    "    )\n",
    "fig.show()"
   ]
  },
  {
   "cell_type": "markdown",
   "metadata": {},
   "source": [
    "#### Plotting distribution of daily returns"
   ]
  },
  {
   "cell_type": "code",
   "execution_count": 16,
   "metadata": {},
   "outputs": [
    {
     "data": {
      "text/html": [
       "<div>\n",
       "<style scoped>\n",
       "    .dataframe tbody tr th:only-of-type {\n",
       "        vertical-align: middle;\n",
       "    }\n",
       "\n",
       "    .dataframe tbody tr th {\n",
       "        vertical-align: top;\n",
       "    }\n",
       "\n",
       "    .dataframe thead th {\n",
       "        text-align: right;\n",
       "    }\n",
       "</style>\n",
       "<table border=\"1\" class=\"dataframe\">\n",
       "  <thead>\n",
       "    <tr style=\"text-align: right;\">\n",
       "      <th></th>\n",
       "      <th>Open</th>\n",
       "      <th>High</th>\n",
       "      <th>Low</th>\n",
       "      <th>Close</th>\n",
       "      <th>Volume</th>\n",
       "      <th>Dividends</th>\n",
       "      <th>Stock Splits</th>\n",
       "      <th>Daily Returns</th>\n",
       "    </tr>\n",
       "    <tr>\n",
       "      <th>Date</th>\n",
       "      <th></th>\n",
       "      <th></th>\n",
       "      <th></th>\n",
       "      <th></th>\n",
       "      <th></th>\n",
       "      <th></th>\n",
       "      <th></th>\n",
       "      <th></th>\n",
       "    </tr>\n",
       "  </thead>\n",
       "  <tbody>\n",
       "    <tr>\n",
       "      <th>2021-08-12 00:00:00-04:00</th>\n",
       "      <td>198.400857</td>\n",
       "      <td>199.988459</td>\n",
       "      <td>195.904620</td>\n",
       "      <td>198.750336</td>\n",
       "      <td>15165200</td>\n",
       "      <td>0.0</td>\n",
       "      <td>0.0</td>\n",
       "      <td>NaN</td>\n",
       "    </tr>\n",
       "    <tr>\n",
       "      <th>2021-08-13 00:00:00-04:00</th>\n",
       "      <td>198.750309</td>\n",
       "      <td>201.835653</td>\n",
       "      <td>198.211113</td>\n",
       "      <td>201.576050</td>\n",
       "      <td>18306300</td>\n",
       "      <td>0.0</td>\n",
       "      <td>0.0</td>\n",
       "      <td>0.014217</td>\n",
       "    </tr>\n",
       "    <tr>\n",
       "      <th>2021-08-16 00:00:00-04:00</th>\n",
       "      <td>201.046867</td>\n",
       "      <td>202.564567</td>\n",
       "      <td>194.237127</td>\n",
       "      <td>199.199646</td>\n",
       "      <td>21087600</td>\n",
       "      <td>0.0</td>\n",
       "      <td>0.0</td>\n",
       "      <td>-0.011789</td>\n",
       "    </tr>\n",
       "    <tr>\n",
       "      <th>2021-08-17 00:00:00-04:00</th>\n",
       "      <td>196.553635</td>\n",
       "      <td>197.402346</td>\n",
       "      <td>192.379920</td>\n",
       "      <td>194.287048</td>\n",
       "      <td>20458500</td>\n",
       "      <td>0.0</td>\n",
       "      <td>0.0</td>\n",
       "      <td>-0.024662</td>\n",
       "    </tr>\n",
       "    <tr>\n",
       "      <th>2021-08-18 00:00:00-04:00</th>\n",
       "      <td>194.706407</td>\n",
       "      <td>196.044386</td>\n",
       "      <td>189.713935</td>\n",
       "      <td>190.113327</td>\n",
       "      <td>28591300</td>\n",
       "      <td>0.0</td>\n",
       "      <td>0.0</td>\n",
       "      <td>-0.021482</td>\n",
       "    </tr>\n",
       "  </tbody>\n",
       "</table>\n",
       "</div>"
      ],
      "text/plain": [
       "                                 Open        High         Low       Close  \\\n",
       "Date                                                                        \n",
       "2021-08-12 00:00:00-04:00  198.400857  199.988459  195.904620  198.750336   \n",
       "2021-08-13 00:00:00-04:00  198.750309  201.835653  198.211113  201.576050   \n",
       "2021-08-16 00:00:00-04:00  201.046867  202.564567  194.237127  199.199646   \n",
       "2021-08-17 00:00:00-04:00  196.553635  197.402346  192.379920  194.287048   \n",
       "2021-08-18 00:00:00-04:00  194.706407  196.044386  189.713935  190.113327   \n",
       "\n",
       "                             Volume  Dividends  Stock Splits  Daily Returns  \n",
       "Date                                                                         \n",
       "2021-08-12 00:00:00-04:00  15165200        0.0           0.0            NaN  \n",
       "2021-08-13 00:00:00-04:00  18306300        0.0           0.0       0.014217  \n",
       "2021-08-16 00:00:00-04:00  21087600        0.0           0.0      -0.011789  \n",
       "2021-08-17 00:00:00-04:00  20458500        0.0           0.0      -0.024662  \n",
       "2021-08-18 00:00:00-04:00  28591300        0.0           0.0      -0.021482  "
      ]
     },
     "execution_count": 16,
     "metadata": {},
     "output_type": "execute_result"
    }
   ],
   "source": [
    "data['Daily Returns'] = data['Close'].pct_change()\n",
    "data.head()"
   ]
  },
  {
   "cell_type": "code",
   "execution_count": 17,
   "metadata": {},
   "outputs": [],
   "source": [
    "daily_returns = data['Daily Returns'].dropna()"
   ]
  },
  {
   "cell_type": "code",
   "execution_count": 18,
   "metadata": {},
   "outputs": [
    {
     "data": {
      "text/plain": [
       "Text(0.5, 0, 'Daily Returns')"
      ]
     },
     "execution_count": 18,
     "metadata": {},
     "output_type": "execute_result"
    },
    {
     "data": {
      "image/png": "[encoded data removed]",
      "text/plain": [
       "<Figure size 1000x600 with 1 Axes>"
      ]
     },
     "metadata": {},
     "output_type": "display_data"
    }
   ],
   "source": [
    "plt.figure(figsize=(10,6))\n",
    "sns.histplot(daily_returns, bins =50, kde=True)\n",
    "plt.title('NVIDIA Daily Returns Distribution')\n",
    "plt.xlabel('Daily Returns')"
   ]
  },
  {
   "cell_type": "markdown",
   "metadata": {},
   "source": [
    "Lets analyze this chart further with some basic statistics"
   ]
  },
  {
   "cell_type": "code",
   "execution_count": 19,
   "metadata": {},
   "outputs": [
    {
     "data": {
      "text/plain": [
       "count    502.000000\n",
       "mean       0.002104\n",
       "std        0.036914\n",
       "min       -0.094726\n",
       "25%       -0.020378\n",
       "50%        0.001471\n",
       "75%        0.021941\n",
       "max        0.243696\n",
       "Name: Daily Returns, dtype: float64"
      ]
     },
     "execution_count": 19,
     "metadata": {},
     "output_type": "execute_result"
    }
   ],
   "source": [
    "daily_returns.describe()"
   ]
  },
  {
   "cell_type": "code",
   "execution_count": 20,
   "metadata": {},
   "outputs": [],
   "source": [
    "from scipy.stats import skew, kurtosis"
   ]
  },
  {
   "cell_type": "code",
   "execution_count": 21,
   "metadata": {},
   "outputs": [
    {
     "name": "stdout",
     "output_type": "stream",
     "text": [
      "Skewness = 0.7847771310360969\n",
      "Kurtosis = 3.854229034510375\n"
     ]
    }
   ],
   "source": [
    "skewness = skew(daily_returns)\n",
    "print(f\"Skewness = {skewness}\")\n",
    "\n",
    "k = kurtosis(daily_returns)\n",
    "print(f'Kurtosis = {k}')"
   ]
  },
  {
   "cell_type": "markdown",
   "metadata": {},
   "source": [
    "Kurtosis and Skewness of Nvidia's returns tell us that the stock has above average returns \n",
    "due to the positive skewness, and a Kurtosis of 3.9 indicates high probability of extreme\n",
    "retuns (either positive or negative)."
   ]
  },
  {
   "cell_type": "markdown",
   "metadata": {},
   "source": [
    "Speaking of volatily can I calculate NVIDIAS beta based on the SP500"
   ]
  },
  {
   "cell_type": "code",
   "execution_count": 22,
   "metadata": {},
   "outputs": [
    {
     "data": {
      "text/plain": [
       "1.753377"
      ]
     },
     "execution_count": 22,
     "metadata": {},
     "output_type": "execute_result"
    }
   ],
   "source": [
    "stock_info = nvda.info\n",
    "stock_info['beta']"
   ]
  },
  {
   "cell_type": "code",
   "execution_count": 23,
   "metadata": {},
   "outputs": [
    {
     "data": {
      "text/html": [
       "<div>\n",
       "<style scoped>\n",
       "    .dataframe tbody tr th:only-of-type {\n",
       "        vertical-align: middle;\n",
       "    }\n",
       "\n",
       "    .dataframe tbody tr th {\n",
       "        vertical-align: top;\n",
       "    }\n",
       "\n",
       "    .dataframe thead th {\n",
       "        text-align: right;\n",
       "    }\n",
       "</style>\n",
       "<table border=\"1\" class=\"dataframe\">\n",
       "  <thead>\n",
       "    <tr style=\"text-align: right;\">\n",
       "      <th></th>\n",
       "      <th>Open</th>\n",
       "      <th>High</th>\n",
       "      <th>Low</th>\n",
       "      <th>Close</th>\n",
       "      <th>Volume</th>\n",
       "      <th>Dividends</th>\n",
       "      <th>Stock Splits</th>\n",
       "    </tr>\n",
       "    <tr>\n",
       "      <th>Date</th>\n",
       "      <th></th>\n",
       "      <th></th>\n",
       "      <th></th>\n",
       "      <th></th>\n",
       "      <th></th>\n",
       "      <th></th>\n",
       "      <th></th>\n",
       "    </tr>\n",
       "  </thead>\n",
       "  <tbody>\n",
       "    <tr>\n",
       "      <th>2021-08-12 00:00:00-04:00</th>\n",
       "      <td>4446.080078</td>\n",
       "      <td>4461.770020</td>\n",
       "      <td>4435.959961</td>\n",
       "      <td>4460.830078</td>\n",
       "      <td>3375310000</td>\n",
       "      <td>0.0</td>\n",
       "      <td>0.0</td>\n",
       "    </tr>\n",
       "    <tr>\n",
       "      <th>2021-08-13 00:00:00-04:00</th>\n",
       "      <td>4464.839844</td>\n",
       "      <td>4468.370117</td>\n",
       "      <td>4460.819824</td>\n",
       "      <td>4468.000000</td>\n",
       "      <td>3016470000</td>\n",
       "      <td>0.0</td>\n",
       "      <td>0.0</td>\n",
       "    </tr>\n",
       "    <tr>\n",
       "      <th>2021-08-16 00:00:00-04:00</th>\n",
       "      <td>4461.649902</td>\n",
       "      <td>4480.259766</td>\n",
       "      <td>4437.660156</td>\n",
       "      <td>4479.709961</td>\n",
       "      <td>3370640000</td>\n",
       "      <td>0.0</td>\n",
       "      <td>0.0</td>\n",
       "    </tr>\n",
       "    <tr>\n",
       "      <th>2021-08-17 00:00:00-04:00</th>\n",
       "      <td>4462.120117</td>\n",
       "      <td>4462.120117</td>\n",
       "      <td>4417.830078</td>\n",
       "      <td>4448.080078</td>\n",
       "      <td>3836960000</td>\n",
       "      <td>0.0</td>\n",
       "      <td>0.0</td>\n",
       "    </tr>\n",
       "    <tr>\n",
       "      <th>2021-08-18 00:00:00-04:00</th>\n",
       "      <td>4440.939941</td>\n",
       "      <td>4454.319824</td>\n",
       "      <td>4397.589844</td>\n",
       "      <td>4400.270020</td>\n",
       "      <td>3755590000</td>\n",
       "      <td>0.0</td>\n",
       "      <td>0.0</td>\n",
       "    </tr>\n",
       "  </tbody>\n",
       "</table>\n",
       "</div>"
      ],
      "text/plain": [
       "                                  Open         High          Low        Close  \\\n",
       "Date                                                                            \n",
       "2021-08-12 00:00:00-04:00  4446.080078  4461.770020  4435.959961  4460.830078   \n",
       "2021-08-13 00:00:00-04:00  4464.839844  4468.370117  4460.819824  4468.000000   \n",
       "2021-08-16 00:00:00-04:00  4461.649902  4480.259766  4437.660156  4479.709961   \n",
       "2021-08-17 00:00:00-04:00  4462.120117  4462.120117  4417.830078  4448.080078   \n",
       "2021-08-18 00:00:00-04:00  4440.939941  4454.319824  4397.589844  4400.270020   \n",
       "\n",
       "                               Volume  Dividends  Stock Splits  \n",
       "Date                                                            \n",
       "2021-08-12 00:00:00-04:00  3375310000        0.0           0.0  \n",
       "2021-08-13 00:00:00-04:00  3016470000        0.0           0.0  \n",
       "2021-08-16 00:00:00-04:00  3370640000        0.0           0.0  \n",
       "2021-08-17 00:00:00-04:00  3836960000        0.0           0.0  \n",
       "2021-08-18 00:00:00-04:00  3755590000        0.0           0.0  "
      ]
     },
     "execution_count": 23,
     "metadata": {},
     "output_type": "execute_result"
    }
   ],
   "source": [
    "#that was easy but lets do it by hand, and look at the stocks beta over a 2 year period instead of 5. (post-covid)\n",
    "sp500 = yf.Ticker(\"^GSPC\")\n",
    "index_data = sp500.history(period = '2y', interval='1d')\n",
    "index_data.head()"
   ]
  },
  {
   "cell_type": "code",
   "execution_count": 24,
   "metadata": {},
   "outputs": [
    {
     "data": {
      "text/html": [
       "<div>\n",
       "<style scoped>\n",
       "    .dataframe tbody tr th:only-of-type {\n",
       "        vertical-align: middle;\n",
       "    }\n",
       "\n",
       "    .dataframe tbody tr th {\n",
       "        vertical-align: top;\n",
       "    }\n",
       "\n",
       "    .dataframe thead th {\n",
       "        text-align: right;\n",
       "    }\n",
       "</style>\n",
       "<table border=\"1\" class=\"dataframe\">\n",
       "  <thead>\n",
       "    <tr style=\"text-align: right;\">\n",
       "      <th></th>\n",
       "      <th>Open</th>\n",
       "      <th>High</th>\n",
       "      <th>Low</th>\n",
       "      <th>Close</th>\n",
       "      <th>Volume</th>\n",
       "      <th>Dividends</th>\n",
       "      <th>Stock Splits</th>\n",
       "      <th>Percent Change</th>\n",
       "    </tr>\n",
       "    <tr>\n",
       "      <th>Date</th>\n",
       "      <th></th>\n",
       "      <th></th>\n",
       "      <th></th>\n",
       "      <th></th>\n",
       "      <th></th>\n",
       "      <th></th>\n",
       "      <th></th>\n",
       "      <th></th>\n",
       "    </tr>\n",
       "  </thead>\n",
       "  <tbody>\n",
       "    <tr>\n",
       "      <th>2021-08-12 00:00:00-04:00</th>\n",
       "      <td>4446.080078</td>\n",
       "      <td>4461.770020</td>\n",
       "      <td>4435.959961</td>\n",
       "      <td>4460.830078</td>\n",
       "      <td>3375310000</td>\n",
       "      <td>0.0</td>\n",
       "      <td>0.0</td>\n",
       "      <td>NaN</td>\n",
       "    </tr>\n",
       "    <tr>\n",
       "      <th>2021-08-13 00:00:00-04:00</th>\n",
       "      <td>4464.839844</td>\n",
       "      <td>4468.370117</td>\n",
       "      <td>4460.819824</td>\n",
       "      <td>4468.000000</td>\n",
       "      <td>3016470000</td>\n",
       "      <td>0.0</td>\n",
       "      <td>0.0</td>\n",
       "      <td>0.001607</td>\n",
       "    </tr>\n",
       "    <tr>\n",
       "      <th>2021-08-16 00:00:00-04:00</th>\n",
       "      <td>4461.649902</td>\n",
       "      <td>4480.259766</td>\n",
       "      <td>4437.660156</td>\n",
       "      <td>4479.709961</td>\n",
       "      <td>3370640000</td>\n",
       "      <td>0.0</td>\n",
       "      <td>0.0</td>\n",
       "      <td>0.002621</td>\n",
       "    </tr>\n",
       "    <tr>\n",
       "      <th>2021-08-17 00:00:00-04:00</th>\n",
       "      <td>4462.120117</td>\n",
       "      <td>4462.120117</td>\n",
       "      <td>4417.830078</td>\n",
       "      <td>4448.080078</td>\n",
       "      <td>3836960000</td>\n",
       "      <td>0.0</td>\n",
       "      <td>0.0</td>\n",
       "      <td>-0.007061</td>\n",
       "    </tr>\n",
       "    <tr>\n",
       "      <th>2021-08-18 00:00:00-04:00</th>\n",
       "      <td>4440.939941</td>\n",
       "      <td>4454.319824</td>\n",
       "      <td>4397.589844</td>\n",
       "      <td>4400.270020</td>\n",
       "      <td>3755590000</td>\n",
       "      <td>0.0</td>\n",
       "      <td>0.0</td>\n",
       "      <td>-0.010748</td>\n",
       "    </tr>\n",
       "  </tbody>\n",
       "</table>\n",
       "</div>"
      ],
      "text/plain": [
       "                                  Open         High          Low        Close  \\\n",
       "Date                                                                            \n",
       "2021-08-12 00:00:00-04:00  4446.080078  4461.770020  4435.959961  4460.830078   \n",
       "2021-08-13 00:00:00-04:00  4464.839844  4468.370117  4460.819824  4468.000000   \n",
       "2021-08-16 00:00:00-04:00  4461.649902  4480.259766  4437.660156  4479.709961   \n",
       "2021-08-17 00:00:00-04:00  4462.120117  4462.120117  4417.830078  4448.080078   \n",
       "2021-08-18 00:00:00-04:00  4440.939941  4454.319824  4397.589844  4400.270020   \n",
       "\n",
       "                               Volume  Dividends  Stock Splits  Percent Change  \n",
       "Date                                                                            \n",
       "2021-08-12 00:00:00-04:00  3375310000        0.0           0.0             NaN  \n",
       "2021-08-13 00:00:00-04:00  3016470000        0.0           0.0        0.001607  \n",
       "2021-08-16 00:00:00-04:00  3370640000        0.0           0.0        0.002621  \n",
       "2021-08-17 00:00:00-04:00  3836960000        0.0           0.0       -0.007061  \n",
       "2021-08-18 00:00:00-04:00  3755590000        0.0           0.0       -0.010748  "
      ]
     },
     "execution_count": 24,
     "metadata": {},
     "output_type": "execute_result"
    }
   ],
   "source": [
    "index_data['Percent Change'] = index_data['Close'].pct_change()\n",
    "index_data.head()"
   ]
  },
  {
   "cell_type": "code",
   "execution_count": 25,
   "metadata": {},
   "outputs": [
    {
     "data": {
      "text/plain": [
       "Text(0.5, 0, 'Daily Returns')"
      ]
     },
     "execution_count": 25,
     "metadata": {},
     "output_type": "execute_result"
    },
    {
     "data": {
      "image/png": "[encoded data removed]",
      "text/plain": [
       "<Figure size 1000x600 with 1 Axes>"
      ]
     },
     "metadata": {},
     "output_type": "display_data"
    }
   ],
   "source": [
    "#Let's explore the histogram here\n",
    "index_returns = index_data['Percent Change'].dropna()\n",
    "plt.figure(figsize=(10,6))\n",
    "sns.histplot(index_returns, bins =50, kde=True)\n",
    "plt.title('S&P 500 Daily Returns Distribution')\n",
    "plt.xlabel('Daily Returns')"
   ]
  },
  {
   "cell_type": "code",
   "execution_count": 26,
   "metadata": {},
   "outputs": [
    {
     "name": "stdout",
     "output_type": "stream",
     "text": [
      "Skewness = -0.07324139001903597\n",
      "Kurtosis = 1.2129758372709327\n"
     ]
    }
   ],
   "source": [
    "#Checking out the skewness and Kurtosis\n",
    "s = skew(index_returns)\n",
    "print(f\"Skewness = {s}\")\n",
    "\n",
    "k2 = kurtosis(index_returns)\n",
    "print(f'Kurtosis = {k2}')"
   ]
  },
  {
   "cell_type": "markdown",
   "metadata": {},
   "source": [
    "Here we can see the S&P 500 over the last two years has a slight bias towards negative returns as by the -.079 skewness but they have much lower volatility, as expected, then NVDA with a Kurtosis of 1.122"
   ]
  },
  {
   "cell_type": "code",
   "execution_count": 27,
   "metadata": {},
   "outputs": [
    {
     "data": {
      "text/html": [
       "<div>\n",
       "<style scoped>\n",
       "    .dataframe tbody tr th:only-of-type {\n",
       "        vertical-align: middle;\n",
       "    }\n",
       "\n",
       "    .dataframe tbody tr th {\n",
       "        vertical-align: top;\n",
       "    }\n",
       "\n",
       "    .dataframe thead th {\n",
       "        text-align: right;\n",
       "    }\n",
       "</style>\n",
       "<table border=\"1\" class=\"dataframe\">\n",
       "  <thead>\n",
       "    <tr style=\"text-align: right;\">\n",
       "      <th></th>\n",
       "      <th>Daily Returns</th>\n",
       "      <th>Percent Change</th>\n",
       "    </tr>\n",
       "    <tr>\n",
       "      <th>Date</th>\n",
       "      <th></th>\n",
       "      <th></th>\n",
       "    </tr>\n",
       "  </thead>\n",
       "  <tbody>\n",
       "    <tr>\n",
       "      <th>2021-08-13 00:00:00-04:00</th>\n",
       "      <td>0.014217</td>\n",
       "      <td>0.001607</td>\n",
       "    </tr>\n",
       "    <tr>\n",
       "      <th>2021-08-16 00:00:00-04:00</th>\n",
       "      <td>-0.011789</td>\n",
       "      <td>0.002621</td>\n",
       "    </tr>\n",
       "    <tr>\n",
       "      <th>2021-08-17 00:00:00-04:00</th>\n",
       "      <td>-0.024662</td>\n",
       "      <td>-0.007061</td>\n",
       "    </tr>\n",
       "    <tr>\n",
       "      <th>2021-08-18 00:00:00-04:00</th>\n",
       "      <td>-0.021482</td>\n",
       "      <td>-0.010748</td>\n",
       "    </tr>\n",
       "    <tr>\n",
       "      <th>2021-08-19 00:00:00-04:00</th>\n",
       "      <td>0.039811</td>\n",
       "      <td>0.001257</td>\n",
       "    </tr>\n",
       "    <tr>\n",
       "      <th>...</th>\n",
       "      <td>...</td>\n",
       "      <td>...</td>\n",
       "    </tr>\n",
       "    <tr>\n",
       "      <th>2023-08-07 00:00:00-04:00</th>\n",
       "      <td>0.016495</td>\n",
       "      <td>0.009024</td>\n",
       "    </tr>\n",
       "    <tr>\n",
       "      <th>2023-08-08 00:00:00-04:00</th>\n",
       "      <td>-0.016580</td>\n",
       "      <td>-0.004218</td>\n",
       "    </tr>\n",
       "    <tr>\n",
       "      <th>2023-08-09 00:00:00-04:00</th>\n",
       "      <td>-0.047242</td>\n",
       "      <td>-0.007039</td>\n",
       "    </tr>\n",
       "    <tr>\n",
       "      <th>2023-08-10 00:00:00-04:00</th>\n",
       "      <td>-0.003901</td>\n",
       "      <td>0.000251</td>\n",
       "    </tr>\n",
       "    <tr>\n",
       "      <th>2023-08-11 00:00:00-04:00</th>\n",
       "      <td>-0.036166</td>\n",
       "      <td>-0.001070</td>\n",
       "    </tr>\n",
       "  </tbody>\n",
       "</table>\n",
       "<p>502 rows × 2 columns</p>\n",
       "</div>"
      ],
      "text/plain": [
       "                           Daily Returns  Percent Change\n",
       "Date                                                    \n",
       "2021-08-13 00:00:00-04:00       0.014217        0.001607\n",
       "2021-08-16 00:00:00-04:00      -0.011789        0.002621\n",
       "2021-08-17 00:00:00-04:00      -0.024662       -0.007061\n",
       "2021-08-18 00:00:00-04:00      -0.021482       -0.010748\n",
       "2021-08-19 00:00:00-04:00       0.039811        0.001257\n",
       "...                                  ...             ...\n",
       "2023-08-07 00:00:00-04:00       0.016495        0.009024\n",
       "2023-08-08 00:00:00-04:00      -0.016580       -0.004218\n",
       "2023-08-09 00:00:00-04:00      -0.047242       -0.007039\n",
       "2023-08-10 00:00:00-04:00      -0.003901        0.000251\n",
       "2023-08-11 00:00:00-04:00      -0.036166       -0.001070\n",
       "\n",
       "[502 rows x 2 columns]"
      ]
     },
     "execution_count": 27,
     "metadata": {},
     "output_type": "execute_result"
    }
   ],
   "source": [
    "#Let's manually test for beta, start by combining the return columns\n",
    "merged_data = pd.merge(daily_returns, index_returns, left_index=True, right_index=True, how = 'inner')\n",
    "merged_data\n"
   ]
  },
  {
   "cell_type": "code",
   "execution_count": 28,
   "metadata": {},
   "outputs": [
    {
     "data": {
      "text/html": [
       "<div>\n",
       "<style scoped>\n",
       "    .dataframe tbody tr th:only-of-type {\n",
       "        vertical-align: middle;\n",
       "    }\n",
       "\n",
       "    .dataframe tbody tr th {\n",
       "        vertical-align: top;\n",
       "    }\n",
       "\n",
       "    .dataframe thead th {\n",
       "        text-align: right;\n",
       "    }\n",
       "</style>\n",
       "<table border=\"1\" class=\"dataframe\">\n",
       "  <thead>\n",
       "    <tr style=\"text-align: right;\">\n",
       "      <th></th>\n",
       "      <th>Nvidia Returns</th>\n",
       "      <th>S&amp;P 500 Returns</th>\n",
       "    </tr>\n",
       "    <tr>\n",
       "      <th>Date</th>\n",
       "      <th></th>\n",
       "      <th></th>\n",
       "    </tr>\n",
       "  </thead>\n",
       "  <tbody>\n",
       "    <tr>\n",
       "      <th>2021-08-13 00:00:00-04:00</th>\n",
       "      <td>0.014217</td>\n",
       "      <td>0.001607</td>\n",
       "    </tr>\n",
       "    <tr>\n",
       "      <th>2021-08-16 00:00:00-04:00</th>\n",
       "      <td>-0.011789</td>\n",
       "      <td>0.002621</td>\n",
       "    </tr>\n",
       "    <tr>\n",
       "      <th>2021-08-17 00:00:00-04:00</th>\n",
       "      <td>-0.024662</td>\n",
       "      <td>-0.007061</td>\n",
       "    </tr>\n",
       "    <tr>\n",
       "      <th>2021-08-18 00:00:00-04:00</th>\n",
       "      <td>-0.021482</td>\n",
       "      <td>-0.010748</td>\n",
       "    </tr>\n",
       "    <tr>\n",
       "      <th>2021-08-19 00:00:00-04:00</th>\n",
       "      <td>0.039811</td>\n",
       "      <td>0.001257</td>\n",
       "    </tr>\n",
       "    <tr>\n",
       "      <th>...</th>\n",
       "      <td>...</td>\n",
       "      <td>...</td>\n",
       "    </tr>\n",
       "    <tr>\n",
       "      <th>2023-08-07 00:00:00-04:00</th>\n",
       "      <td>0.016495</td>\n",
       "      <td>0.009024</td>\n",
       "    </tr>\n",
       "    <tr>\n",
       "      <th>2023-08-08 00:00:00-04:00</th>\n",
       "      <td>-0.016580</td>\n",
       "      <td>-0.004218</td>\n",
       "    </tr>\n",
       "    <tr>\n",
       "      <th>2023-08-09 00:00:00-04:00</th>\n",
       "      <td>-0.047242</td>\n",
       "      <td>-0.007039</td>\n",
       "    </tr>\n",
       "    <tr>\n",
       "      <th>2023-08-10 00:00:00-04:00</th>\n",
       "      <td>-0.003901</td>\n",
       "      <td>0.000251</td>\n",
       "    </tr>\n",
       "    <tr>\n",
       "      <th>2023-08-11 00:00:00-04:00</th>\n",
       "      <td>-0.036166</td>\n",
       "      <td>-0.001070</td>\n",
       "    </tr>\n",
       "  </tbody>\n",
       "</table>\n",
       "<p>502 rows × 2 columns</p>\n",
       "</div>"
      ],
      "text/plain": [
       "                           Nvidia Returns  S&P 500 Returns\n",
       "Date                                                      \n",
       "2021-08-13 00:00:00-04:00        0.014217         0.001607\n",
       "2021-08-16 00:00:00-04:00       -0.011789         0.002621\n",
       "2021-08-17 00:00:00-04:00       -0.024662        -0.007061\n",
       "2021-08-18 00:00:00-04:00       -0.021482        -0.010748\n",
       "2021-08-19 00:00:00-04:00        0.039811         0.001257\n",
       "...                                   ...              ...\n",
       "2023-08-07 00:00:00-04:00        0.016495         0.009024\n",
       "2023-08-08 00:00:00-04:00       -0.016580        -0.004218\n",
       "2023-08-09 00:00:00-04:00       -0.047242        -0.007039\n",
       "2023-08-10 00:00:00-04:00       -0.003901         0.000251\n",
       "2023-08-11 00:00:00-04:00       -0.036166        -0.001070\n",
       "\n",
       "[502 rows x 2 columns]"
      ]
     },
     "execution_count": 28,
     "metadata": {},
     "output_type": "execute_result"
    }
   ],
   "source": [
    "#The 'Daily Returns' column represents the Stock Returns and the 'Percent Change' column represents the Index returns, but lets make that more clear\n",
    "merged_data.columns = ['Nvidia Returns', 'S&P 500 Returns']\n",
    "merged_data"
   ]
  },
  {
   "cell_type": "code",
   "execution_count": 29,
   "metadata": {},
   "outputs": [
    {
     "data": {
      "text/html": [
       "<div>\n",
       "<style scoped>\n",
       "    .dataframe tbody tr th:only-of-type {\n",
       "        vertical-align: middle;\n",
       "    }\n",
       "\n",
       "    .dataframe tbody tr th {\n",
       "        vertical-align: top;\n",
       "    }\n",
       "\n",
       "    .dataframe thead th {\n",
       "        text-align: right;\n",
       "    }\n",
       "</style>\n",
       "<table border=\"1\" class=\"dataframe\">\n",
       "  <thead>\n",
       "    <tr style=\"text-align: right;\">\n",
       "      <th></th>\n",
       "      <th>Nvidia Returns</th>\n",
       "      <th>S&amp;P 500 Returns</th>\n",
       "    </tr>\n",
       "  </thead>\n",
       "  <tbody>\n",
       "    <tr>\n",
       "      <th>Nvidia Returns</th>\n",
       "      <td>0.001363</td>\n",
       "      <td>0.000341</td>\n",
       "    </tr>\n",
       "    <tr>\n",
       "      <th>S&amp;P 500 Returns</th>\n",
       "      <td>0.000341</td>\n",
       "      <td>0.000152</td>\n",
       "    </tr>\n",
       "  </tbody>\n",
       "</table>\n",
       "</div>"
      ],
      "text/plain": [
       "                 Nvidia Returns  S&P 500 Returns\n",
       "Nvidia Returns         0.001363         0.000341\n",
       "S&P 500 Returns        0.000341         0.000152"
      ]
     },
     "execution_count": 29,
     "metadata": {},
     "output_type": "execute_result"
    }
   ],
   "source": [
    "#Finally let's calculate Beta\n",
    "#Reminder: b = (cov(r(i), r(m))) / var(rm)\n",
    "\n",
    "cov = merged_data.cov()\n",
    "cov"
   ]
  },
  {
   "cell_type": "code",
   "execution_count": 30,
   "metadata": {},
   "outputs": [
    {
     "name": "stdout",
     "output_type": "stream",
     "text": [
      "Nvidia's beta over the last two years is 2.24\n"
     ]
    }
   ],
   "source": [
    "beta = cov.iloc[0,1] / cov.iloc[1,1]\n",
    "print(f\"Nvidia's beta over the last two years is {beta.round(2)}\")"
   ]
  },
  {
   "cell_type": "code",
   "execution_count": 31,
   "metadata": {},
   "outputs": [
    {
     "name": "stdout",
     "output_type": "stream",
     "text": [
      "Nvidia's beta over the last five years is 1.75\n"
     ]
    }
   ],
   "source": [
    "#Remembering the 5-year Beta for NVDA\n",
    "stock_info = nvda.info\n",
    "nvda_beta = stock_info['beta']\n",
    "rounded_nvda_beta = round(nvda_beta, 2)\n",
    "\n",
    "print(f\"Nvidia's beta over the last five years is {(rounded_nvda_beta)}\")"
   ]
  },
  {
   "cell_type": "markdown",
   "metadata": {},
   "source": [
    "Typically Beta is calculated over 5 years on a monthly basis, therefore we have calculated a different answer then the yfinance outputted beta, but it is good to know that Nvidia's beta is very high currently, relative to its 5y average. Therefore, when making predictions it may be better to use a shorter time frame to reflect to post covid-19 era of stocks which have been more volatile."
   ]
  },
  {
   "cell_type": "markdown",
   "metadata": {},
   "source": [
    "## Stock Predictions using LSTM Time Series Analysis"
   ]
  },
  {
   "cell_type": "markdown",
   "metadata": {},
   "source": [
    "I am interested in testing a deep learning LSTM Model from Chapter 10.5.2 of Intro to Statistical Learning For Python"
   ]
  },
  {
   "cell_type": "code",
   "execution_count": 32,
   "metadata": {},
   "outputs": [
    {
     "data": {
      "text/html": [
       "<div>\n",
       "<style scoped>\n",
       "    .dataframe tbody tr th:only-of-type {\n",
       "        vertical-align: middle;\n",
       "    }\n",
       "\n",
       "    .dataframe tbody tr th {\n",
       "        vertical-align: top;\n",
       "    }\n",
       "\n",
       "    .dataframe thead th {\n",
       "        text-align: right;\n",
       "    }\n",
       "</style>\n",
       "<table border=\"1\" class=\"dataframe\">\n",
       "  <thead>\n",
       "    <tr style=\"text-align: right;\">\n",
       "      <th></th>\n",
       "      <th>Open</th>\n",
       "      <th>High</th>\n",
       "      <th>Low</th>\n",
       "      <th>Close</th>\n",
       "      <th>Volume</th>\n",
       "      <th>Dividends</th>\n",
       "      <th>Stock Splits</th>\n",
       "      <th>Daily Returns</th>\n",
       "    </tr>\n",
       "    <tr>\n",
       "      <th>Date</th>\n",
       "      <th></th>\n",
       "      <th></th>\n",
       "      <th></th>\n",
       "      <th></th>\n",
       "      <th></th>\n",
       "      <th></th>\n",
       "      <th></th>\n",
       "      <th></th>\n",
       "    </tr>\n",
       "  </thead>\n",
       "  <tbody>\n",
       "    <tr>\n",
       "      <th>2021-08-12 00:00:00-04:00</th>\n",
       "      <td>198.400857</td>\n",
       "      <td>199.988459</td>\n",
       "      <td>195.904620</td>\n",
       "      <td>198.750336</td>\n",
       "      <td>15165200</td>\n",
       "      <td>0.0</td>\n",
       "      <td>0.0</td>\n",
       "      <td>NaN</td>\n",
       "    </tr>\n",
       "    <tr>\n",
       "      <th>2021-08-13 00:00:00-04:00</th>\n",
       "      <td>198.750309</td>\n",
       "      <td>201.835653</td>\n",
       "      <td>198.211113</td>\n",
       "      <td>201.576050</td>\n",
       "      <td>18306300</td>\n",
       "      <td>0.0</td>\n",
       "      <td>0.0</td>\n",
       "      <td>0.014217</td>\n",
       "    </tr>\n",
       "    <tr>\n",
       "      <th>2021-08-16 00:00:00-04:00</th>\n",
       "      <td>201.046867</td>\n",
       "      <td>202.564567</td>\n",
       "      <td>194.237127</td>\n",
       "      <td>199.199646</td>\n",
       "      <td>21087600</td>\n",
       "      <td>0.0</td>\n",
       "      <td>0.0</td>\n",
       "      <td>-0.011789</td>\n",
       "    </tr>\n",
       "    <tr>\n",
       "      <th>2021-08-17 00:00:00-04:00</th>\n",
       "      <td>196.553635</td>\n",
       "      <td>197.402346</td>\n",
       "      <td>192.379920</td>\n",
       "      <td>194.287048</td>\n",
       "      <td>20458500</td>\n",
       "      <td>0.0</td>\n",
       "      <td>0.0</td>\n",
       "      <td>-0.024662</td>\n",
       "    </tr>\n",
       "    <tr>\n",
       "      <th>2021-08-18 00:00:00-04:00</th>\n",
       "      <td>194.706407</td>\n",
       "      <td>196.044386</td>\n",
       "      <td>189.713935</td>\n",
       "      <td>190.113327</td>\n",
       "      <td>28591300</td>\n",
       "      <td>0.0</td>\n",
       "      <td>0.0</td>\n",
       "      <td>-0.021482</td>\n",
       "    </tr>\n",
       "  </tbody>\n",
       "</table>\n",
       "</div>"
      ],
      "text/plain": [
       "                                 Open        High         Low       Close  \\\n",
       "Date                                                                        \n",
       "2021-08-12 00:00:00-04:00  198.400857  199.988459  195.904620  198.750336   \n",
       "2021-08-13 00:00:00-04:00  198.750309  201.835653  198.211113  201.576050   \n",
       "2021-08-16 00:00:00-04:00  201.046867  202.564567  194.237127  199.199646   \n",
       "2021-08-17 00:00:00-04:00  196.553635  197.402346  192.379920  194.287048   \n",
       "2021-08-18 00:00:00-04:00  194.706407  196.044386  189.713935  190.113327   \n",
       "\n",
       "                             Volume  Dividends  Stock Splits  Daily Returns  \n",
       "Date                                                                         \n",
       "2021-08-12 00:00:00-04:00  15165200        0.0           0.0            NaN  \n",
       "2021-08-13 00:00:00-04:00  18306300        0.0           0.0       0.014217  \n",
       "2021-08-16 00:00:00-04:00  21087600        0.0           0.0      -0.011789  \n",
       "2021-08-17 00:00:00-04:00  20458500        0.0           0.0      -0.024662  \n",
       "2021-08-18 00:00:00-04:00  28591300        0.0           0.0      -0.021482  "
      ]
     },
     "execution_count": 32,
     "metadata": {},
     "output_type": "execute_result"
    }
   ],
   "source": [
    "#Reference the NVDA data set again\n",
    "data.head()"
   ]
  },
  {
   "cell_type": "markdown",
   "metadata": {},
   "source": [
    "Preparing data for analysis by normalizing, creating training and testing splits, and adding lag features"
   ]
  },
  {
   "cell_type": "code",
   "execution_count": 33,
   "metadata": {},
   "outputs": [],
   "source": [
    "#Normalizing the Data\n",
    "\n",
    "from sklearn.preprocessing import MinMaxScaler\n",
    "sc = MinMaxScaler()\n",
    "training_set_scaled = sc.fit_transform(data['Close'].values.reshape(-1,1))\n",
    "#training_set_scaled"
   ]
  },
  {
   "cell_type": "code",
   "execution_count": 34,
   "metadata": {},
   "outputs": [],
   "source": [
    "# Train, test, split\n",
    "\n",
    "train_size = int(len(training_set_scaled) *.8)\n",
    "train_data = training_set_scaled[:train_size]\n",
    "test_data = training_set_scaled[train_size:]"
   ]
  },
  {
   "cell_type": "markdown",
   "metadata": {},
   "source": [
    "### Creating a function to lag the data for time series analysis\n",
    "It is important for me to create this as a function so I can go back later and easily test different lag periods.\n",
    "\n",
    "The 'predictor' variable represents the Y value, and the 'sequences' variable represents the 5 days of stock data leading up to that day."
   ]
  },
  {
   "cell_type": "code",
   "execution_count": 35,
   "metadata": {},
   "outputs": [],
   "source": [
    "def lag_data(data, lag_time):\n",
    "    sequences = []\n",
    "    predictor = []\n",
    "    for i in range(len(data) - lag_time):\n",
    "        seq = data[i: i + lag_time]\n",
    "        label = data[i + lag_time]\n",
    "        sequences.append(seq)\n",
    "        predictor.append(label)\n",
    "\n",
    "    return np.array(sequences), np.array(predictor)"
   ]
  },
  {
   "cell_type": "code",
   "execution_count": 36,
   "metadata": {},
   "outputs": [],
   "source": [
    "lag_time = 5\n",
    "X_train, y_train = lag_data(train_data, lag_time)\n",
    "X_test, y_test = lag_data(test_data, lag_time)\n",
    "#X_train.shape\n",
    "#X_test.shape"
   ]
  },
  {
   "cell_type": "markdown",
   "metadata": {},
   "source": [
    "### Time to train the LSTM model"
   ]
  },
  {
   "cell_type": "code",
   "execution_count": 38,
   "metadata": {},
   "outputs": [
    {
     "name": "stderr",
     "output_type": "stream",
     "text": [
      "2023-08-13 15:31:12.410470: I tensorflow/core/platform/cpu_feature_guard.cc:182] This TensorFlow binary is optimized to use available CPU instructions in performance-critical operations.\n",
      "To enable the following instructions: AVX2 FMA, in other operations, rebuild TensorFlow with the appropriate compiler flags.\n"
     ]
    }
   ],
   "source": [
    "from keras.models import Sequential\n",
    "from keras.layers import LSTM, Dense, Dropout\n"
   ]
  },
  {
   "cell_type": "code",
   "execution_count": 39,
   "metadata": {},
   "outputs": [],
   "source": [
    "model = Sequential()\n",
    "model.add(LSTM(50, return_sequences=True, input_shape =(X_train.shape[1], 1)))\n",
    "model.add(Dropout(0.2))\n",
    "model.add(LSTM(50, return_sequences=False))\n",
    "model.add(Dropout(0.2))\n",
    "model.add(Dense(25))\n",
    "model.add(Dropout(0.2))\n",
    "model.add(Dense(1))"
   ]
  },
  {
   "cell_type": "code",
   "execution_count": 40,
   "metadata": {},
   "outputs": [
    {
     "name": "stdout",
     "output_type": "stream",
     "text": [
      "Epoch 1/100\n",
      "13/13 [==============================] - 8s 8ms/step - loss: 0.0240\n",
      "Epoch 2/100\n",
      "13/13 [==============================] - 0s 8ms/step - loss: 0.0086\n",
      "Epoch 3/100\n",
      "13/13 [==============================] - 0s 11ms/step - loss: 0.0059\n",
      "Epoch 4/100\n",
      "13/13 [==============================] - 0s 7ms/step - loss: 0.0040\n",
      "Epoch 5/100\n",
      "13/13 [==============================] - 0s 7ms/step - loss: 0.0040\n",
      "Epoch 6/100\n",
      "13/13 [==============================] - 0s 7ms/step - loss: 0.0035\n",
      "Epoch 7/100\n",
      "13/13 [==============================] - 0s 7ms/step - loss: 0.0036\n",
      "Epoch 8/100\n",
      "13/13 [==============================] - 0s 8ms/step - loss: 0.0033\n",
      "Epoch 9/100\n",
      "13/13 [==============================] - 0s 7ms/step - loss: 0.0031\n",
      "Epoch 10/100\n",
      "13/13 [==============================] - 0s 7ms/step - loss: 0.0030\n",
      "Epoch 11/100\n",
      "13/13 [==============================] - 0s 7ms/step - loss: 0.0028\n",
      "Epoch 12/100\n",
      "13/13 [==============================] - 0s 7ms/step - loss: 0.0029\n",
      "Epoch 13/100\n",
      "13/13 [==============================] - 0s 7ms/step - loss: 0.0031\n",
      "Epoch 14/100\n",
      "13/13 [==============================] - 0s 7ms/step - loss: 0.0024\n",
      "Epoch 15/100\n",
      "13/13 [==============================] - 0s 8ms/step - loss: 0.0030\n",
      "Epoch 16/100\n",
      "13/13 [==============================] - 0s 7ms/step - loss: 0.0026\n",
      "Epoch 17/100\n",
      "13/13 [==============================] - 0s 7ms/step - loss: 0.0031\n",
      "Epoch 18/100\n",
      "13/13 [==============================] - 0s 6ms/step - loss: 0.0028\n",
      "Epoch 19/100\n",
      "13/13 [==============================] - 0s 7ms/step - loss: 0.0028\n",
      "Epoch 20/100\n",
      "13/13 [==============================] - 0s 7ms/step - loss: 0.0028\n",
      "Epoch 21/100\n",
      "13/13 [==============================] - 0s 12ms/step - loss: 0.0024\n",
      "Epoch 22/100\n",
      "13/13 [==============================] - 0s 7ms/step - loss: 0.0023\n",
      "Epoch 23/100\n",
      "13/13 [==============================] - 0s 6ms/step - loss: 0.0023\n",
      "Epoch 24/100\n",
      "13/13 [==============================] - 0s 7ms/step - loss: 0.0022\n",
      "Epoch 25/100\n",
      "13/13 [==============================] - 0s 7ms/step - loss: 0.0023\n",
      "Epoch 26/100\n",
      "13/13 [==============================] - 0s 7ms/step - loss: 0.0023\n",
      "Epoch 27/100\n",
      "13/13 [==============================] - 0s 7ms/step - loss: 0.0022\n",
      "Epoch 28/100\n",
      "13/13 [==============================] - 0s 6ms/step - loss: 0.0025\n",
      "Epoch 29/100\n",
      "13/13 [==============================] - 0s 7ms/step - loss: 0.0022\n",
      "Epoch 30/100\n",
      "13/13 [==============================] - 0s 6ms/step - loss: 0.0027\n",
      "Epoch 31/100\n",
      "13/13 [==============================] - 0s 7ms/step - loss: 0.0019\n",
      "Epoch 32/100\n",
      "13/13 [==============================] - 0s 6ms/step - loss: 0.0021\n",
      "Epoch 33/100\n",
      "13/13 [==============================] - 0s 7ms/step - loss: 0.0023\n",
      "Epoch 34/100\n",
      "13/13 [==============================] - 0s 7ms/step - loss: 0.0019\n",
      "Epoch 35/100\n",
      "13/13 [==============================] - 0s 6ms/step - loss: 0.0018\n",
      "Epoch 36/100\n",
      "13/13 [==============================] - 0s 6ms/step - loss: 0.0018\n",
      "Epoch 37/100\n",
      "13/13 [==============================] - 0s 12ms/step - loss: 0.0021\n",
      "Epoch 38/100\n",
      "13/13 [==============================] - 0s 7ms/step - loss: 0.0022\n",
      "Epoch 39/100\n",
      "13/13 [==============================] - 0s 6ms/step - loss: 0.0021\n",
      "Epoch 40/100\n",
      "13/13 [==============================] - 0s 6ms/step - loss: 0.0016\n",
      "Epoch 41/100\n",
      "13/13 [==============================] - 0s 7ms/step - loss: 0.0017\n",
      "Epoch 42/100\n",
      "13/13 [==============================] - 0s 7ms/step - loss: 0.0016\n",
      "Epoch 43/100\n",
      "13/13 [==============================] - 0s 7ms/step - loss: 0.0017\n",
      "Epoch 44/100\n",
      "13/13 [==============================] - 0s 9ms/step - loss: 0.0018\n",
      "Epoch 45/100\n",
      "13/13 [==============================] - 0s 7ms/step - loss: 0.0018\n",
      "Epoch 46/100\n",
      "13/13 [==============================] - 0s 7ms/step - loss: 0.0017\n",
      "Epoch 47/100\n",
      "13/13 [==============================] - 0s 6ms/step - loss: 0.0019\n",
      "Epoch 48/100\n",
      "13/13 [==============================] - 0s 6ms/step - loss: 0.0017\n",
      "Epoch 49/100\n",
      "13/13 [==============================] - 0s 7ms/step - loss: 0.0018\n",
      "Epoch 50/100\n",
      "13/13 [==============================] - 0s 6ms/step - loss: 0.0016\n",
      "Epoch 51/100\n",
      "13/13 [==============================] - 0s 7ms/step - loss: 0.0017\n",
      "Epoch 52/100\n",
      "13/13 [==============================] - 0s 7ms/step - loss: 0.0017\n",
      "Epoch 53/100\n",
      "13/13 [==============================] - 0s 6ms/step - loss: 0.0024\n",
      "Epoch 54/100\n",
      "13/13 [==============================] - 0s 9ms/step - loss: 0.0018\n",
      "Epoch 55/100\n",
      "13/13 [==============================] - 0s 7ms/step - loss: 0.0018\n",
      "Epoch 56/100\n",
      "13/13 [==============================] - 0s 6ms/step - loss: 0.0016\n",
      "Epoch 57/100\n",
      "13/13 [==============================] - 0s 7ms/step - loss: 0.0016\n",
      "Epoch 58/100\n",
      "13/13 [==============================] - 0s 6ms/step - loss: 0.0016\n",
      "Epoch 59/100\n",
      "13/13 [==============================] - 0s 6ms/step - loss: 0.0016\n",
      "Epoch 60/100\n",
      "13/13 [==============================] - 0s 6ms/step - loss: 0.0017\n",
      "Epoch 61/100\n",
      "13/13 [==============================] - 0s 7ms/step - loss: 0.0015\n",
      "Epoch 62/100\n",
      "13/13 [==============================] - 0s 6ms/step - loss: 0.0017\n",
      "Epoch 63/100\n",
      "13/13 [==============================] - 0s 6ms/step - loss: 0.0017\n",
      "Epoch 64/100\n",
      "13/13 [==============================] - 0s 6ms/step - loss: 0.0015\n",
      "Epoch 65/100\n",
      "13/13 [==============================] - 0s 7ms/step - loss: 0.0015\n",
      "Epoch 66/100\n",
      "13/13 [==============================] - 0s 8ms/step - loss: 0.0017\n",
      "Epoch 67/100\n",
      "13/13 [==============================] - 0s 6ms/step - loss: 0.0014\n",
      "Epoch 68/100\n",
      "13/13 [==============================] - 0s 6ms/step - loss: 0.0016\n",
      "Epoch 69/100\n",
      "13/13 [==============================] - 0s 7ms/step - loss: 0.0016\n",
      "Epoch 70/100\n",
      "13/13 [==============================] - 0s 7ms/step - loss: 0.0016\n",
      "Epoch 71/100\n",
      "13/13 [==============================] - 0s 10ms/step - loss: 0.0014\n",
      "Epoch 72/100\n",
      "13/13 [==============================] - 0s 7ms/step - loss: 0.0016\n",
      "Epoch 73/100\n",
      "13/13 [==============================] - 0s 7ms/step - loss: 0.0016\n",
      "Epoch 74/100\n",
      "13/13 [==============================] - 0s 7ms/step - loss: 0.0015\n",
      "Epoch 75/100\n",
      "13/13 [==============================] - 0s 6ms/step - loss: 0.0013\n",
      "Epoch 76/100\n",
      "13/13 [==============================] - 0s 7ms/step - loss: 0.0015\n",
      "Epoch 77/100\n",
      "13/13 [==============================] - 0s 6ms/step - loss: 0.0016\n",
      "Epoch 78/100\n",
      "13/13 [==============================] - 0s 6ms/step - loss: 0.0016\n",
      "Epoch 79/100\n",
      "13/13 [==============================] - 0s 6ms/step - loss: 0.0015\n",
      "Epoch 80/100\n",
      "13/13 [==============================] - 0s 7ms/step - loss: 0.0015\n",
      "Epoch 81/100\n",
      "13/13 [==============================] - 0s 7ms/step - loss: 0.0015\n",
      "Epoch 82/100\n",
      "13/13 [==============================] - 0s 9ms/step - loss: 0.0015\n",
      "Epoch 83/100\n",
      "13/13 [==============================] - 0s 10ms/step - loss: 0.0014\n",
      "Epoch 84/100\n",
      "13/13 [==============================] - 0s 13ms/step - loss: 0.0013\n",
      "Epoch 85/100\n",
      "13/13 [==============================] - 0s 19ms/step - loss: 0.0015\n",
      "Epoch 86/100\n",
      "13/13 [==============================] - 0s 11ms/step - loss: 0.0015\n",
      "Epoch 87/100\n",
      "13/13 [==============================] - 0s 11ms/step - loss: 0.0013\n",
      "Epoch 88/100\n",
      "13/13 [==============================] - 0s 11ms/step - loss: 0.0013\n",
      "Epoch 89/100\n",
      "13/13 [==============================] - 0s 12ms/step - loss: 0.0016\n",
      "Epoch 90/100\n",
      "13/13 [==============================] - 0s 10ms/step - loss: 0.0014\n",
      "Epoch 91/100\n",
      "13/13 [==============================] - 0s 10ms/step - loss: 0.0015\n",
      "Epoch 92/100\n",
      "13/13 [==============================] - 0s 11ms/step - loss: 0.0013\n",
      "Epoch 93/100\n",
      "13/13 [==============================] - 0s 10ms/step - loss: 0.0014\n",
      "Epoch 94/100\n",
      "13/13 [==============================] - 0s 10ms/step - loss: 0.0015\n",
      "Epoch 95/100\n",
      "13/13 [==============================] - 0s 11ms/step - loss: 0.0013\n",
      "Epoch 96/100\n",
      "13/13 [==============================] - 0s 14ms/step - loss: 0.0014\n",
      "Epoch 97/100\n",
      "13/13 [==============================] - 0s 10ms/step - loss: 0.0012\n",
      "Epoch 98/100\n",
      "13/13 [==============================] - 0s 11ms/step - loss: 0.0012\n",
      "Epoch 99/100\n",
      "13/13 [==============================] - 0s 11ms/step - loss: 0.0014\n",
      "Epoch 100/100\n",
      "13/13 [==============================] - 0s 10ms/step - loss: 0.0013\n"
     ]
    },
    {
     "data": {
      "text/plain": [
       "<keras.src.callbacks.History at 0x1502800d0>"
      ]
     },
     "execution_count": 40,
     "metadata": {},
     "output_type": "execute_result"
    }
   ],
   "source": [
    "model.compile(optimizer='adam', loss='mean_squared_error')\n",
    "model.fit(X_train, y_train, batch_size=32, epochs=100)"
   ]
  },
  {
   "cell_type": "markdown",
   "metadata": {},
   "source": [
    "#### Making prediction on our never seen test data"
   ]
  },
  {
   "cell_type": "code",
   "execution_count": 41,
   "metadata": {},
   "outputs": [
    {
     "name": "stdout",
     "output_type": "stream",
     "text": [
      "3/3 [==============================] - 3s 5ms/step\n"
     ]
    },
    {
     "data": {
      "text/plain": [
       "(96, 1)"
      ]
     },
     "execution_count": 41,
     "metadata": {},
     "output_type": "execute_result"
    }
   ],
   "source": [
    "predictions = model.predict(X_test)\n",
    "predictions = sc.inverse_transform(predictions)\n",
    "predictions.shape"
   ]
  },
  {
   "cell_type": "markdown",
   "metadata": {},
   "source": [
    "#### Inversing our scaling of the data from before"
   ]
  },
  {
   "cell_type": "code",
   "execution_count": 42,
   "metadata": {},
   "outputs": [],
   "source": [
    "y_test_inversed = sc.inverse_transform(y_test)"
   ]
  },
  {
   "cell_type": "markdown",
   "metadata": {},
   "source": [
    "#### Creating a dates variable for our chart, instead of having a list from 0 on the X axis"
   ]
  },
  {
   "cell_type": "code",
   "execution_count": 43,
   "metadata": {},
   "outputs": [
    {
     "data": {
      "text/plain": [
       "407   2023-03-27 00:00:00-04:00\n",
       "408   2023-03-28 00:00:00-04:00\n",
       "409   2023-03-29 00:00:00-04:00\n",
       "410   2023-03-30 00:00:00-04:00\n",
       "411   2023-03-31 00:00:00-04:00\n",
       "                 ...           \n",
       "498   2023-08-07 00:00:00-04:00\n",
       "499   2023-08-08 00:00:00-04:00\n",
       "500   2023-08-09 00:00:00-04:00\n",
       "501   2023-08-10 00:00:00-04:00\n",
       "502   2023-08-11 00:00:00-04:00\n",
       "Name: Date, Length: 96, dtype: datetime64[ns, America/New_York]"
      ]
     },
     "execution_count": 43,
     "metadata": {},
     "output_type": "execute_result"
    }
   ],
   "source": [
    "data_indexed = data.reset_index()\n",
    "data_indexed.head()\n",
    "data_index = data_indexed['Date']\n",
    "dates = data_index[train_size+lag_time:]\n",
    "dates"
   ]
  },
  {
   "cell_type": "markdown",
   "metadata": {},
   "source": [
    "### Visualizing our results"
   ]
  },
  {
   "cell_type": "code",
   "execution_count": 44,
   "metadata": {},
   "outputs": [
    {
     "data": {
      "image/png": "[encoded data removed]",
      "text/plain": [
       "<Figure size 800x600 with 1 Axes>"
      ]
     },
     "metadata": {},
     "output_type": "display_data"
    }
   ],
   "source": [
    "plt.figure(figsize=(8,6))\n",
    "plt.plot(dates, predictions, label = 'Predicted')\n",
    "plt.plot(dates, y_test_inversed, label = \"Actual\")\n",
    "plt.title('Nvidia Test Data vs. LSTM Prediction')\n",
    "plt.ylabel('Nvidia Stock Price')\n",
    "plt.xlabel('Dates')\n",
    "plt.legend()\n",
    "plt.xticks(rotation =45, fontsize=10)\n",
    "plt.tight_layout()"
   ]
  },
  {
   "cell_type": "markdown",
   "metadata": {},
   "source": [
    "Let's look at some statistical tests of our results"
   ]
  },
  {
   "cell_type": "code",
   "execution_count": 45,
   "metadata": {},
   "outputs": [],
   "source": [
    "from sklearn.metrics import mean_absolute_error, mean_squared_error, r2_score"
   ]
  },
  {
   "cell_type": "code",
   "execution_count": 47,
   "metadata": {},
   "outputs": [
    {
     "name": "stdout",
     "output_type": "stream",
     "text": [
      "Mean Squared Error (MSE): 228.55580149229104\n",
      "Root Mean Squared Error (RMSE): 15.118062094471336\n",
      "Mean Absolute Error (MAE): 10.437185605367024\n",
      "R-squared (R2) score: 0.9602613069942209\n"
     ]
    }
   ],
   "source": [
    "mse = mean_squared_error(y_test_inversed, predictions)\n",
    "rmse = mean_squared_error(y_test_inversed, predictions, squared=False)\n",
    "mae = mean_absolute_error(y_test_inversed, predictions)\n",
    "r2 = r2_score(y_test_inversed, predictions)\n",
    "\n",
    "print(\"Mean Squared Error (MSE):\", mse)\n",
    "print(\"Root Mean Squared Error (RMSE):\", rmse)\n",
    "print(\"Mean Absolute Error (MAE):\", mae)\n",
    "print(\"R-squared (R2) score:\", r2)"
   ]
  },
  {
   "cell_type": "markdown",
   "metadata": {},
   "source": [
    "### Analyzing Model Results"
   ]
  },
  {
   "cell_type": "markdown",
   "metadata": {},
   "source": [
    "Looking at the above metrics we see that our model can explain 96.5% of the variance of the stock prices as shown by the r2 value. The error metrics such as RMSE and MAE give us some context to how far off are predictions are from the actual stock price on average. The values 9.45 for MAE and 14.2 for RMSE tell us that on average our prediction is roughly between 2-3.5% off the actual price, which is a respectable result. One interesting point is that our prediction error seemed to increase after the large spike in price of May 2023, maybe it is better to use a smaller sample size? At the same time there are risk associated with only using data from the last 3 months."
   ]
  },
  {
   "cell_type": "markdown",
   "metadata": {},
   "source": [
    "Lets create a function to allow myself to easily test different hyperparameters for the model"
   ]
  },
  {
   "cell_type": "code",
   "execution_count": 48,
   "metadata": {},
   "outputs": [],
   "source": [
    "def run_lstm(neurons1, nuerons2, batch_sizes, denses1, denses2 ,dropout_rate):\n",
    "    model = Sequential()\n",
    "    model.add(LSTM(neurons1, return_sequences=True, input_shape =(X_train.shape[1], 1)))\n",
    "    model.add(Dropout(dropout_rate))\n",
    "    model.add(LSTM(nuerons2, return_sequences=False))\n",
    "    model.add(Dropout(dropout_rate))\n",
    "    model.add(Dense(denses1))\n",
    "    model.add(Dropout(dropout_rate))\n",
    "    model.add(Dense(denses2))\n",
    "\n",
    "    model.compile(optimizer='adam', loss='mean_squared_error')\n",
    "    model.fit(X_train, y_train, batch_size=batch_sizes, epochs=100)\n",
    "\n",
    "    return model"
   ]
  },
  {
   "cell_type": "code",
   "execution_count": 49,
   "metadata": {},
   "outputs": [
    {
     "name": "stdout",
     "output_type": "stream",
     "text": [
      "Epoch 1/100\n",
      "13/13 [==============================] - 6s 7ms/step - loss: 0.0456\n",
      "Epoch 2/100\n",
      "13/13 [==============================] - 0s 9ms/step - loss: 0.0154\n",
      "Epoch 3/100\n",
      "13/13 [==============================] - 0s 7ms/step - loss: 0.0102\n",
      "Epoch 4/100\n",
      "13/13 [==============================] - 0s 6ms/step - loss: 0.0084\n",
      "Epoch 5/100\n",
      "13/13 [==============================] - 0s 6ms/step - loss: 0.0069\n",
      "Epoch 6/100\n",
      "13/13 [==============================] - 0s 7ms/step - loss: 0.0052\n",
      "Epoch 7/100\n",
      "13/13 [==============================] - 0s 6ms/step - loss: 0.0052\n",
      "Epoch 8/100\n",
      "13/13 [==============================] - 0s 7ms/step - loss: 0.0046\n",
      "Epoch 9/100\n",
      "13/13 [==============================] - 0s 6ms/step - loss: 0.0037\n",
      "Epoch 10/100\n",
      "13/13 [==============================] - 0s 6ms/step - loss: 0.0037\n",
      "Epoch 11/100\n",
      "13/13 [==============================] - 0s 6ms/step - loss: 0.0036\n",
      "Epoch 12/100\n",
      "13/13 [==============================] - 0s 6ms/step - loss: 0.0036\n",
      "Epoch 13/100\n",
      "13/13 [==============================] - 0s 6ms/step - loss: 0.0038\n",
      "Epoch 14/100\n",
      "13/13 [==============================] - 0s 6ms/step - loss: 0.0035\n",
      "Epoch 15/100\n",
      "13/13 [==============================] - 0s 6ms/step - loss: 0.0034\n",
      "Epoch 16/100\n",
      "13/13 [==============================] - 0s 6ms/step - loss: 0.0035\n",
      "Epoch 17/100\n",
      "13/13 [==============================] - 0s 6ms/step - loss: 0.0029\n",
      "Epoch 18/100\n",
      "13/13 [==============================] - 0s 6ms/step - loss: 0.0031\n",
      "Epoch 19/100\n",
      "13/13 [==============================] - 0s 11ms/step - loss: 0.0030\n",
      "Epoch 20/100\n",
      "13/13 [==============================] - 0s 6ms/step - loss: 0.0033\n",
      "Epoch 21/100\n",
      "13/13 [==============================] - 0s 6ms/step - loss: 0.0029\n",
      "Epoch 22/100\n",
      "13/13 [==============================] - 0s 6ms/step - loss: 0.0029\n",
      "Epoch 23/100\n",
      "13/13 [==============================] - 0s 6ms/step - loss: 0.0031\n",
      "Epoch 24/100\n",
      "13/13 [==============================] - 0s 6ms/step - loss: 0.0028\n",
      "Epoch 25/100\n",
      "13/13 [==============================] - 0s 6ms/step - loss: 0.0026\n",
      "Epoch 26/100\n",
      "13/13 [==============================] - 0s 6ms/step - loss: 0.0030\n",
      "Epoch 27/100\n",
      "13/13 [==============================] - 0s 6ms/step - loss: 0.0025\n",
      "Epoch 28/100\n",
      "13/13 [==============================] - 0s 6ms/step - loss: 0.0025\n",
      "Epoch 29/100\n",
      "13/13 [==============================] - 0s 6ms/step - loss: 0.0032\n",
      "Epoch 30/100\n",
      "13/13 [==============================] - 0s 6ms/step - loss: 0.0026\n",
      "Epoch 31/100\n",
      "13/13 [==============================] - 0s 7ms/step - loss: 0.0029\n",
      "Epoch 32/100\n",
      "13/13 [==============================] - 0s 6ms/step - loss: 0.0024\n",
      "Epoch 33/100\n",
      "13/13 [==============================] - 0s 6ms/step - loss: 0.0026\n",
      "Epoch 34/100\n",
      "13/13 [==============================] - 0s 11ms/step - loss: 0.0026\n",
      "Epoch 35/100\n",
      "13/13 [==============================] - 0s 6ms/step - loss: 0.0028\n",
      "Epoch 36/100\n",
      "13/13 [==============================] - 0s 6ms/step - loss: 0.0025\n",
      "Epoch 37/100\n",
      "13/13 [==============================] - 0s 6ms/step - loss: 0.0028\n",
      "Epoch 38/100\n",
      "13/13 [==============================] - 0s 7ms/step - loss: 0.0025\n",
      "Epoch 39/100\n",
      "13/13 [==============================] - 0s 6ms/step - loss: 0.0026\n",
      "Epoch 40/100\n",
      "13/13 [==============================] - 0s 6ms/step - loss: 0.0024\n",
      "Epoch 41/100\n",
      "13/13 [==============================] - 0s 6ms/step - loss: 0.0021\n",
      "Epoch 42/100\n",
      "13/13 [==============================] - 0s 6ms/step - loss: 0.0023\n",
      "Epoch 43/100\n",
      "13/13 [==============================] - 0s 6ms/step - loss: 0.0025\n",
      "Epoch 44/100\n",
      "13/13 [==============================] - 0s 6ms/step - loss: 0.0027\n",
      "Epoch 45/100\n",
      "13/13 [==============================] - 0s 6ms/step - loss: 0.0023\n",
      "Epoch 46/100\n",
      "13/13 [==============================] - 0s 6ms/step - loss: 0.0029\n",
      "Epoch 47/100\n",
      "13/13 [==============================] - 0s 6ms/step - loss: 0.0023\n",
      "Epoch 48/100\n",
      "13/13 [==============================] - 0s 6ms/step - loss: 0.0024\n",
      "Epoch 49/100\n",
      "13/13 [==============================] - 0s 6ms/step - loss: 0.0023\n",
      "Epoch 50/100\n",
      "13/13 [==============================] - 0s 8ms/step - loss: 0.0025\n",
      "Epoch 51/100\n",
      "13/13 [==============================] - 0s 11ms/step - loss: 0.0024\n",
      "Epoch 52/100\n",
      "13/13 [==============================] - 0s 7ms/step - loss: 0.0026\n",
      "Epoch 53/100\n",
      "13/13 [==============================] - 0s 6ms/step - loss: 0.0023\n",
      "Epoch 54/100\n",
      "13/13 [==============================] - 0s 6ms/step - loss: 0.0026\n",
      "Epoch 55/100\n",
      "13/13 [==============================] - 0s 6ms/step - loss: 0.0023\n",
      "Epoch 56/100\n",
      "13/13 [==============================] - 0s 6ms/step - loss: 0.0023\n",
      "Epoch 57/100\n",
      "13/13 [==============================] - 0s 6ms/step - loss: 0.0022\n",
      "Epoch 58/100\n",
      "13/13 [==============================] - 0s 6ms/step - loss: 0.0024\n",
      "Epoch 59/100\n",
      "13/13 [==============================] - 0s 6ms/step - loss: 0.0025\n",
      "Epoch 60/100\n",
      "13/13 [==============================] - 0s 10ms/step - loss: 0.0022\n",
      "Epoch 61/100\n",
      "13/13 [==============================] - 0s 13ms/step - loss: 0.0026\n",
      "Epoch 62/100\n",
      "13/13 [==============================] - 0s 12ms/step - loss: 0.0024\n",
      "Epoch 63/100\n",
      "13/13 [==============================] - 0s 11ms/step - loss: 0.0022\n",
      "Epoch 64/100\n",
      "13/13 [==============================] - 0s 11ms/step - loss: 0.0022\n",
      "Epoch 65/100\n",
      "13/13 [==============================] - 0s 16ms/step - loss: 0.0023\n",
      "Epoch 66/100\n",
      "13/13 [==============================] - 0s 11ms/step - loss: 0.0024\n",
      "Epoch 67/100\n",
      "13/13 [==============================] - 0s 9ms/step - loss: 0.0023\n",
      "Epoch 68/100\n",
      "13/13 [==============================] - 0s 10ms/step - loss: 0.0022\n",
      "Epoch 69/100\n",
      "13/13 [==============================] - 0s 10ms/step - loss: 0.0021\n",
      "Epoch 70/100\n",
      "13/13 [==============================] - 0s 10ms/step - loss: 0.0023\n",
      "Epoch 71/100\n",
      "13/13 [==============================] - 0s 14ms/step - loss: 0.0019\n",
      "Epoch 72/100\n",
      "13/13 [==============================] - 0s 10ms/step - loss: 0.0018\n",
      "Epoch 73/100\n",
      "13/13 [==============================] - 0s 10ms/step - loss: 0.0024\n",
      "Epoch 74/100\n",
      "13/13 [==============================] - 0s 10ms/step - loss: 0.0022\n",
      "Epoch 75/100\n",
      "13/13 [==============================] - 0s 10ms/step - loss: 0.0022\n",
      "Epoch 76/100\n",
      "13/13 [==============================] - 0s 10ms/step - loss: 0.0022\n",
      "Epoch 77/100\n",
      "13/13 [==============================] - 0s 11ms/step - loss: 0.0021\n",
      "Epoch 78/100\n",
      "13/13 [==============================] - 0s 15ms/step - loss: 0.0021\n",
      "Epoch 79/100\n",
      "13/13 [==============================] - 0s 10ms/step - loss: 0.0017\n",
      "Epoch 80/100\n",
      "13/13 [==============================] - 0s 11ms/step - loss: 0.0021\n",
      "Epoch 81/100\n",
      "13/13 [==============================] - 0s 10ms/step - loss: 0.0022\n",
      "Epoch 82/100\n",
      "13/13 [==============================] - 0s 11ms/step - loss: 0.0021\n",
      "Epoch 83/100\n",
      "13/13 [==============================] - 0s 10ms/step - loss: 0.0018\n",
      "Epoch 84/100\n",
      "13/13 [==============================] - 0s 10ms/step - loss: 0.0019\n",
      "Epoch 85/100\n",
      "13/13 [==============================] - 0s 9ms/step - loss: 0.0020\n",
      "Epoch 86/100\n",
      "13/13 [==============================] - 0s 15ms/step - loss: 0.0022\n",
      "Epoch 87/100\n",
      "13/13 [==============================] - 0s 10ms/step - loss: 0.0023\n",
      "Epoch 88/100\n",
      "13/13 [==============================] - 0s 10ms/step - loss: 0.0020\n",
      "Epoch 89/100\n",
      "13/13 [==============================] - 0s 9ms/step - loss: 0.0022\n",
      "Epoch 90/100\n",
      "13/13 [==============================] - 0s 11ms/step - loss: 0.0018\n",
      "Epoch 91/100\n",
      "13/13 [==============================] - 0s 12ms/step - loss: 0.0024\n",
      "Epoch 92/100\n",
      "13/13 [==============================] - 0s 12ms/step - loss: 0.0018\n",
      "Epoch 93/100\n",
      "13/13 [==============================] - 0s 12ms/step - loss: 0.0017\n",
      "Epoch 94/100\n",
      "13/13 [==============================] - 0s 13ms/step - loss: 0.0019\n",
      "Epoch 95/100\n",
      "13/13 [==============================] - 0s 10ms/step - loss: 0.0020\n",
      "Epoch 96/100\n",
      "13/13 [==============================] - 0s 12ms/step - loss: 0.0017\n",
      "Epoch 97/100\n",
      "13/13 [==============================] - 0s 9ms/step - loss: 0.0018\n",
      "Epoch 98/100\n",
      "13/13 [==============================] - 0s 11ms/step - loss: 0.0020\n",
      "Epoch 99/100\n",
      "13/13 [==============================] - 0s 11ms/step - loss: 0.0018\n",
      "Epoch 100/100\n",
      "13/13 [==============================] - 0s 14ms/step - loss: 0.0021\n"
     ]
    }
   ],
   "source": [
    "new_model1 = run_lstm(32,32,32,32,1,0.3)"
   ]
  },
  {
   "cell_type": "code",
   "execution_count": 50,
   "metadata": {},
   "outputs": [
    {
     "name": "stdout",
     "output_type": "stream",
     "text": [
      "3/3 [==============================] - 4s 7ms/step\n"
     ]
    }
   ],
   "source": [
    "predictions2 = new_model1.predict(X_test)\n",
    "predictions2 = sc.inverse_transform(predictions2)"
   ]
  },
  {
   "cell_type": "code",
   "execution_count": 51,
   "metadata": {},
   "outputs": [
    {
     "name": "stdout",
     "output_type": "stream",
     "text": [
      "Mean Squared Error (MSE): 928.3315865934127\n",
      "Root Mean Squared Error (RMSE): 30.468534368975032\n",
      "Mean Absolute Error (MAE): 24.943968454996746\n",
      "R-squared (R2) score: 0.8385922226155009\n"
     ]
    }
   ],
   "source": [
    "mse = mean_squared_error(y_test_inversed, predictions2)\n",
    "rmse = mean_squared_error(y_test_inversed, predictions2, squared=False)\n",
    "mae = mean_absolute_error(y_test_inversed, predictions2)\n",
    "r2 = r2_score(y_test_inversed, predictions2)\n",
    "\n",
    "print(\"Mean Squared Error (MSE):\", mse)\n",
    "print(\"Root Mean Squared Error (RMSE):\", rmse)\n",
    "print(\"Mean Absolute Error (MAE):\", mae)\n",
    "print(\"R-squared (R2) score:\", r2)"
   ]
  },
  {
   "cell_type": "markdown",
   "metadata": {},
   "source": [
    "This model performed a little bit worse, lets try again"
   ]
  },
  {
   "cell_type": "code",
   "execution_count": 52,
   "metadata": {},
   "outputs": [
    {
     "name": "stdout",
     "output_type": "stream",
     "text": [
      "Epoch 1/100\n",
      "7/7 [==============================] - 8s 13ms/step - loss: 0.0502\n",
      "Epoch 2/100\n",
      "7/7 [==============================] - 0s 14ms/step - loss: 0.0141\n",
      "Epoch 3/100\n",
      "7/7 [==============================] - 0s 13ms/step - loss: 0.0071\n",
      "Epoch 4/100\n",
      "7/7 [==============================] - 0s 13ms/step - loss: 0.0091\n",
      "Epoch 5/100\n",
      "7/7 [==============================] - 0s 12ms/step - loss: 0.0046\n",
      "Epoch 6/100\n",
      "7/7 [==============================] - 0s 13ms/step - loss: 0.0043\n",
      "Epoch 7/100\n",
      "7/7 [==============================] - 0s 13ms/step - loss: 0.0040\n",
      "Epoch 8/100\n",
      "7/7 [==============================] - 0s 12ms/step - loss: 0.0034\n",
      "Epoch 9/100\n",
      "7/7 [==============================] - 0s 22ms/step - loss: 0.0038\n",
      "Epoch 10/100\n",
      "7/7 [==============================] - 0s 12ms/step - loss: 0.0032\n",
      "Epoch 11/100\n",
      "7/7 [==============================] - 0s 12ms/step - loss: 0.0032\n",
      "Epoch 12/100\n",
      "7/7 [==============================] - 0s 12ms/step - loss: 0.0031\n",
      "Epoch 13/100\n",
      "7/7 [==============================] - 0s 12ms/step - loss: 0.0033\n",
      "Epoch 14/100\n",
      "7/7 [==============================] - 0s 12ms/step - loss: 0.0039\n",
      "Epoch 15/100\n",
      "7/7 [==============================] - 0s 13ms/step - loss: 0.0032\n",
      "Epoch 16/100\n",
      "7/7 [==============================] - 0s 12ms/step - loss: 0.0032\n",
      "Epoch 17/100\n",
      "7/7 [==============================] - 0s 12ms/step - loss: 0.0038\n",
      "Epoch 18/100\n",
      "7/7 [==============================] - 0s 12ms/step - loss: 0.0028\n",
      "Epoch 19/100\n",
      "7/7 [==============================] - 0s 11ms/step - loss: 0.0031\n",
      "Epoch 20/100\n",
      "7/7 [==============================] - 0s 13ms/step - loss: 0.0030\n",
      "Epoch 21/100\n",
      "7/7 [==============================] - 0s 12ms/step - loss: 0.0030\n",
      "Epoch 22/100\n",
      "7/7 [==============================] - 0s 13ms/step - loss: 0.0026\n",
      "Epoch 23/100\n",
      "7/7 [==============================] - 0s 18ms/step - loss: 0.0026\n",
      "Epoch 24/100\n",
      "7/7 [==============================] - 0s 12ms/step - loss: 0.0026\n",
      "Epoch 25/100\n",
      "7/7 [==============================] - 0s 12ms/step - loss: 0.0027\n",
      "Epoch 26/100\n",
      "7/7 [==============================] - 0s 12ms/step - loss: 0.0030\n",
      "Epoch 27/100\n",
      "7/7 [==============================] - 0s 12ms/step - loss: 0.0028\n",
      "Epoch 28/100\n",
      "7/7 [==============================] - 0s 12ms/step - loss: 0.0025\n",
      "Epoch 29/100\n",
      "7/7 [==============================] - 0s 12ms/step - loss: 0.0024\n",
      "Epoch 30/100\n",
      "7/7 [==============================] - 0s 13ms/step - loss: 0.0023\n",
      "Epoch 31/100\n",
      "7/7 [==============================] - 0s 12ms/step - loss: 0.0024\n",
      "Epoch 32/100\n",
      "7/7 [==============================] - 0s 11ms/step - loss: 0.0024\n",
      "Epoch 33/100\n",
      "7/7 [==============================] - 0s 13ms/step - loss: 0.0023\n",
      "Epoch 34/100\n",
      "7/7 [==============================] - 0s 12ms/step - loss: 0.0021\n",
      "Epoch 35/100\n",
      "7/7 [==============================] - 0s 13ms/step - loss: 0.0020\n",
      "Epoch 36/100\n",
      "7/7 [==============================] - 0s 12ms/step - loss: 0.0020\n",
      "Epoch 37/100\n",
      "7/7 [==============================] - 0s 12ms/step - loss: 0.0022\n",
      "Epoch 38/100\n",
      "7/7 [==============================] - 0s 12ms/step - loss: 0.0022\n",
      "Epoch 39/100\n",
      "7/7 [==============================] - 0s 21ms/step - loss: 0.0021\n",
      "Epoch 40/100\n",
      "7/7 [==============================] - 0s 12ms/step - loss: 0.0024\n",
      "Epoch 41/100\n",
      "7/7 [==============================] - 0s 11ms/step - loss: 0.0024\n",
      "Epoch 42/100\n",
      "7/7 [==============================] - 0s 11ms/step - loss: 0.0027\n",
      "Epoch 43/100\n",
      "7/7 [==============================] - 0s 12ms/step - loss: 0.0023\n",
      "Epoch 44/100\n",
      "7/7 [==============================] - 0s 12ms/step - loss: 0.0020\n",
      "Epoch 45/100\n",
      "7/7 [==============================] - 0s 12ms/step - loss: 0.0023\n",
      "Epoch 46/100\n",
      "7/7 [==============================] - 0s 12ms/step - loss: 0.0025\n",
      "Epoch 47/100\n",
      "7/7 [==============================] - 0s 12ms/step - loss: 0.0019\n",
      "Epoch 48/100\n",
      "7/7 [==============================] - 0s 12ms/step - loss: 0.0021\n",
      "Epoch 49/100\n",
      "7/7 [==============================] - 0s 11ms/step - loss: 0.0020\n",
      "Epoch 50/100\n",
      "7/7 [==============================] - 0s 11ms/step - loss: 0.0019\n",
      "Epoch 51/100\n",
      "7/7 [==============================] - 0s 14ms/step - loss: 0.0018\n",
      "Epoch 52/100\n",
      "7/7 [==============================] - 0s 12ms/step - loss: 0.0021\n",
      "Epoch 53/100\n",
      "7/7 [==============================] - 0s 12ms/step - loss: 0.0019\n",
      "Epoch 54/100\n",
      "7/7 [==============================] - 0s 12ms/step - loss: 0.0019\n",
      "Epoch 55/100\n",
      "7/7 [==============================] - 0s 11ms/step - loss: 0.0020\n",
      "Epoch 56/100\n",
      "7/7 [==============================] - 0s 12ms/step - loss: 0.0023\n",
      "Epoch 57/100\n",
      "7/7 [==============================] - 0s 12ms/step - loss: 0.0022\n",
      "Epoch 58/100\n",
      "7/7 [==============================] - 0s 13ms/step - loss: 0.0019\n",
      "Epoch 59/100\n",
      "7/7 [==============================] - 0s 12ms/step - loss: 0.0020\n",
      "Epoch 60/100\n",
      "7/7 [==============================] - 0s 12ms/step - loss: 0.0019\n",
      "Epoch 61/100\n",
      "7/7 [==============================] - 0s 12ms/step - loss: 0.0016\n",
      "Epoch 62/100\n",
      "7/7 [==============================] - 0s 13ms/step - loss: 0.0017\n",
      "Epoch 63/100\n",
      "7/7 [==============================] - 0s 16ms/step - loss: 0.0019\n",
      "Epoch 64/100\n",
      "7/7 [==============================] - 0s 12ms/step - loss: 0.0019\n",
      "Epoch 65/100\n",
      "7/7 [==============================] - 0s 12ms/step - loss: 0.0019\n",
      "Epoch 66/100\n",
      "7/7 [==============================] - 0s 12ms/step - loss: 0.0017\n",
      "Epoch 67/100\n",
      "7/7 [==============================] - 0s 12ms/step - loss: 0.0019\n",
      "Epoch 68/100\n",
      "7/7 [==============================] - 0s 12ms/step - loss: 0.0020\n",
      "Epoch 69/100\n",
      "7/7 [==============================] - 0s 12ms/step - loss: 0.0015\n",
      "Epoch 70/100\n",
      "7/7 [==============================] - 0s 23ms/step - loss: 0.0020\n",
      "Epoch 71/100\n",
      "7/7 [==============================] - 0s 12ms/step - loss: 0.0019\n",
      "Epoch 72/100\n",
      "7/7 [==============================] - 0s 12ms/step - loss: 0.0019\n",
      "Epoch 73/100\n",
      "7/7 [==============================] - 0s 12ms/step - loss: 0.0021\n",
      "Epoch 74/100\n",
      "7/7 [==============================] - 0s 14ms/step - loss: 0.0023\n",
      "Epoch 75/100\n",
      "7/7 [==============================] - 0s 19ms/step - loss: 0.0020\n",
      "Epoch 76/100\n",
      "7/7 [==============================] - 0s 16ms/step - loss: 0.0018\n",
      "Epoch 77/100\n",
      "7/7 [==============================] - 0s 12ms/step - loss: 0.0021\n",
      "Epoch 78/100\n",
      "7/7 [==============================] - 0s 15ms/step - loss: 0.0019\n",
      "Epoch 79/100\n",
      "7/7 [==============================] - 0s 16ms/step - loss: 0.0020\n",
      "Epoch 80/100\n",
      "7/7 [==============================] - 0s 16ms/step - loss: 0.0017\n",
      "Epoch 81/100\n",
      "7/7 [==============================] - 0s 14ms/step - loss: 0.0020\n",
      "Epoch 82/100\n",
      "7/7 [==============================] - 0s 11ms/step - loss: 0.0018\n",
      "Epoch 83/100\n",
      "7/7 [==============================] - 0s 11ms/step - loss: 0.0018\n",
      "Epoch 84/100\n",
      "7/7 [==============================] - 0s 15ms/step - loss: 0.0014\n",
      "Epoch 85/100\n",
      "7/7 [==============================] - 0s 10ms/step - loss: 0.0017\n",
      "Epoch 86/100\n",
      "7/7 [==============================] - 0s 11ms/step - loss: 0.0018\n",
      "Epoch 87/100\n",
      "7/7 [==============================] - 0s 10ms/step - loss: 0.0017\n",
      "Epoch 88/100\n",
      "7/7 [==============================] - 0s 11ms/step - loss: 0.0015\n",
      "Epoch 89/100\n",
      "7/7 [==============================] - 0s 14ms/step - loss: 0.0016\n",
      "Epoch 90/100\n",
      "7/7 [==============================] - 0s 11ms/step - loss: 0.0018\n",
      "Epoch 91/100\n",
      "7/7 [==============================] - 0s 10ms/step - loss: 0.0016\n",
      "Epoch 92/100\n",
      "7/7 [==============================] - 0s 11ms/step - loss: 0.0017\n",
      "Epoch 93/100\n",
      "7/7 [==============================] - 0s 12ms/step - loss: 0.0017\n",
      "Epoch 94/100\n",
      "7/7 [==============================] - 0s 10ms/step - loss: 0.0019\n",
      "Epoch 95/100\n",
      "7/7 [==============================] - 0s 11ms/step - loss: 0.0017\n",
      "Epoch 96/100\n",
      "7/7 [==============================] - 0s 11ms/step - loss: 0.0013\n",
      "Epoch 97/100\n",
      "7/7 [==============================] - 0s 10ms/step - loss: 0.0015\n",
      "Epoch 98/100\n",
      "7/7 [==============================] - 0s 10ms/step - loss: 0.0014\n",
      "Epoch 99/100\n",
      "7/7 [==============================] - 0s 11ms/step - loss: 0.0016\n",
      "Epoch 100/100\n",
      "7/7 [==============================] - 0s 10ms/step - loss: 0.0014\n"
     ]
    }
   ],
   "source": [
    "new_model2 = run_lstm(128,64,64,25,1,0.2)"
   ]
  },
  {
   "cell_type": "code",
   "execution_count": 53,
   "metadata": {},
   "outputs": [
    {
     "name": "stdout",
     "output_type": "stream",
     "text": [
      "3/3 [==============================] - 4s 5ms/step\n"
     ]
    }
   ],
   "source": [
    "predictions3 = new_model2.predict(X_test)\n",
    "predictions3 = sc.inverse_transform(predictions3)"
   ]
  },
  {
   "cell_type": "code",
   "execution_count": 54,
   "metadata": {},
   "outputs": [
    {
     "name": "stdout",
     "output_type": "stream",
     "text": [
      "Mean Squared Error (MSE): 360.4676870333592\n",
      "Root Mean Squared Error (RMSE): 18.985986596259863\n",
      "Mean Absolute Error (MAE): 13.376207033793131\n",
      "R-squared (R2) score: 0.937325963025248\n"
     ]
    }
   ],
   "source": [
    "mse = mean_squared_error(y_test_inversed, predictions3)\n",
    "rmse = mean_squared_error(y_test_inversed, predictions3, squared=False)\n",
    "mae = mean_absolute_error(y_test_inversed, predictions3)\n",
    "r2 = r2_score(y_test_inversed, predictions3)\n",
    "\n",
    "print(\"Mean Squared Error (MSE):\", mse)\n",
    "print(\"Root Mean Squared Error (RMSE):\", rmse)\n",
    "print(\"Mean Absolute Error (MAE):\", mae)\n",
    "print(\"R-squared (R2) score:\", r2)"
   ]
  },
  {
   "cell_type": "markdown",
   "metadata": {},
   "source": [
    "Today (8/11) 'predictions3' is the most accurate but yesterday, this model was the least accurate.\n",
    "\n",
    "I could also create a for loop to input different parameters into the model for testing but this would be very CPU intensive\n",
    "\n",
    "Let's plot all three charts to compare."
   ]
  },
  {
   "cell_type": "code",
   "execution_count": 56,
   "metadata": {},
   "outputs": [
    {
     "data": {
      "image/png": "[encoded data removed]",
      "text/plain": [
       "<Figure size 1200x800 with 1 Axes>"
      ]
     },
     "metadata": {},
     "output_type": "display_data"
    }
   ],
   "source": [
    "plt.figure(figsize=(12,8))\n",
    "plt.grid(True)\n",
    "plt.plot(dates, predictions,'--', label = '1st Model')\n",
    "plt.plot(dates, predictions2,'--', label = '2nd Model')\n",
    "plt.plot(dates, predictions3, '--' , label = '3rd Model',)\n",
    "plt.plot(dates, y_test_inversed, label = \"Actual\", linewidth =2, color = 'red', path_effects = [pe.Stroke(linewidth =3, foreground = 'b', ), pe.Normal()] )\n",
    "plt.title('Comparing LSTM Models')\n",
    "plt.ylabel('Nvidia Stock Price')\n",
    "plt.xlabel('Date')\n",
    "plt.legend()\n",
    "\n",
    "plt.show()"
   ]
  },
  {
   "cell_type": "code",
   "execution_count": 60,
   "metadata": {},
   "outputs": [
    {
     "data": {
      "image/png": "[encoded data removed]",
      "text/plain": [
       "<Figure size 1200x500 with 2 Axes>"
      ]
     },
     "metadata": {},
     "output_type": "display_data"
    }
   ],
   "source": [
    "#Plotting the Residuals\n",
    "residuals = y_test_inversed - predictions3\n",
    "fig, ax = plt.subplots(1,2, figsize = (12,5))\n",
    "ax[0].hist(residuals, bins =30, edgecolor ='black')\n",
    "ax[0].set_title('Residuals Distribution')\n",
    "ax[0].set_ylabel('Frequency')\n",
    "ax[0].set_xlabel('Residual Amount')\n",
    "ax[0].grid(True)\n",
    "\n",
    "ax[1].scatter(dates, residuals)\n",
    "ax[1].tick_params(axis = 'x', rotation =45)\n",
    "ax[1].axhline(y=0, color = 'black')\n",
    "ax[1].set_title('Residual Scatter Plot')\n",
    "ax[1].set_xlabel('Dates')\n",
    "ax[1].set_ylabel('Residual Amount')\n",
    "\n",
    "plt.tight_layout()\n",
    "plt.show()"
   ]
  },
  {
   "cell_type": "markdown",
   "metadata": {},
   "source": [
    "Plotting our residuals, we can see that our model is a right-skewed distributed which shows a bias to underpredict the stock price, especially towards the end when NVDA reached all time highs. This is likely because the model was trained on data that has never seen prices that high before, and this underpredicting issue can be further reserached. To make a more accurate model, we can consider training the data using percent change values from the previous day."
   ]
  },
  {
   "cell_type": "markdown",
   "metadata": {},
   "source": [
    "Looking at our models, we have recieved a very high r2 score up to .94. (Note: these r2 values and residual measures do change daily along with the accuracy of each model). This brings in concerns of overfitting the model and a potential for the look-ahead bias to be affecting these results. Looking back at our training and testing splits, as well as our feature engineering by creating the lag term I currently don't see how data leakage could occur but this will need further examination. "
   ]
  },
  {
   "cell_type": "markdown",
   "metadata": {},
   "source": [
    "Moving forward, I would like to get experimenting with the hyperparameters in this LSTM model. Specifically, changing the lag term and increase/decrease the amount of hidden layers in the model.\n",
    "\n",
    "Another area I would also like to explore is by training the data on daily return values instead of prices. I would also like to experiment with the scaling of the data, potentially using standardization or log values. Using other metrics such as volume would be an interesting experiment as well.\n",
    "\n",
    "---------------------------------------------------------------------------------------------------------------------------------------------------------------------------------------------------"
   ]
  },
  {
   "cell_type": "markdown",
   "metadata": {},
   "source": [
    "To summarize, in this analysis I employed a LSTM time-series model to forecast Nvidia's stock price. The model performed up to a .94 r^2 score and RMSE of 18.48, suggesting great accuracy of prediciting Nvidia's stock. Despite this high accuracy this model still may not be effective in predicting future prices due to stock price being built up of so many components such as market conditions, interest rates, economic outlook, and the list goes on and on. There are a lot of changes I would like to implement into future models, as previously mentioned, and concerns about overfitting and data leakage that could be looked at. Furthermore, this was simply an exploration into RNN / LSTM models, these models are extremely complex and I will continue to make projects in the future on these topics to gain a deeper understanding. I look forward to hearing feedback from the GitHub community on this code and my thought process behind much of it! Thank you all!"
   ]
  }
 ],
 "metadata": {
  "kernelspec": {
   "display_name": "Python 3",
   "language": "python",
   "name": "python3"
  },
  "language_info": {
   "codemirror_mode": {
    "name": "ipython",
    "version": 3
   },
   "file_extension": ".py",
   "mimetype": "text/x-python",
   "name": "python",
   "nbconvert_exporter": "python",
   "pygments_lexer": "ipython3",
   "version": "3.11.4"
  },
  "orig_nbformat": 4
 },
 "nbformat": 4,
 "nbformat_minor": 2
}
